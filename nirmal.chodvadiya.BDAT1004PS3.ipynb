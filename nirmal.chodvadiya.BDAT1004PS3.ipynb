{
 "cells": [
  {
   "cell_type": "markdown",
   "id": "cec95e58",
   "metadata": {},
   "source": [
    "# Question 1"
   ]
  },
  {
   "cell_type": "code",
   "execution_count": 1,
   "id": "ddf830f5",
   "metadata": {},
   "outputs": [],
   "source": [
    "import pandas as pdLib1\n",
    "users = pdLib1.read_csv(\"https://raw.githubusercontent.com/justmarkham/DAT8/master/data/u.user\", sep='|')"
   ]
  },
  {
   "cell_type": "markdown",
   "id": "53b40fdc",
   "metadata": {},
   "source": [
    "### Discover what is the mean age per occupation"
   ]
  },
  {
   "cell_type": "code",
   "execution_count": 3,
   "id": "1f94144c",
   "metadata": {},
   "outputs": [
    {
     "name": "stdout",
     "output_type": "stream",
     "text": [
      "               Mean Age Per Occupation\n",
      "occupation                            \n",
      "administrator                38.746835\n",
      "artist                       31.392857\n",
      "doctor                       43.571429\n",
      "educator                     42.010526\n",
      "engineer                     36.388060\n",
      "entertainment                29.222222\n",
      "executive                    38.718750\n",
      "healthcare                   41.562500\n",
      "homemaker                    32.571429\n",
      "lawyer                       36.750000\n",
      "librarian                    40.000000\n",
      "marketing                    37.615385\n",
      "none                         26.555556\n",
      "other                        34.523810\n",
      "programmer                   33.121212\n",
      "retired                      63.071429\n",
      "salesman                     35.666667\n",
      "scientist                    35.548387\n",
      "student                      22.081633\n",
      "technician                   33.148148\n",
      "writer                       36.311111\n"
     ]
    }
   ],
   "source": [
    "sFour = pdLib1.DataFrame(users.groupby('occupation').age.agg('mean'))\n",
    "sFour.columns = ['Mean Age Per Occupation']\n",
    "print(sFour)"
   ]
  },
  {
   "cell_type": "markdown",
   "id": "45a6e3d5",
   "metadata": {},
   "source": [
    "###  Discover the Male ratio per occupation and sort it from the most to the least"
   ]
  },
  {
   "cell_type": "code",
   "execution_count": 89,
   "id": "10f3688c",
   "metadata": {
    "scrolled": true
   },
   "outputs": [
    {
     "data": {
      "text/html": [
       "<div>\n",
       "<style scoped>\n",
       "    .dataframe tbody tr th:only-of-type {\n",
       "        vertical-align: middle;\n",
       "    }\n",
       "\n",
       "    .dataframe tbody tr th {\n",
       "        vertical-align: top;\n",
       "    }\n",
       "\n",
       "    .dataframe thead th {\n",
       "        text-align: right;\n",
       "    }\n",
       "</style>\n",
       "<table border=\"1\" class=\"dataframe\">\n",
       "  <thead>\n",
       "    <tr style=\"text-align: right;\">\n",
       "      <th></th>\n",
       "      <th></th>\n",
       "      <th>count</th>\n",
       "    </tr>\n",
       "    <tr>\n",
       "      <th>occupation</th>\n",
       "      <th>gender</th>\n",
       "      <th></th>\n",
       "    </tr>\n",
       "  </thead>\n",
       "  <tbody>\n",
       "    <tr>\n",
       "      <th>doctor</th>\n",
       "      <th>M</th>\n",
       "      <td>100.000000</td>\n",
       "    </tr>\n",
       "    <tr>\n",
       "      <th>engineer</th>\n",
       "      <th>M</th>\n",
       "      <td>97.014925</td>\n",
       "    </tr>\n",
       "    <tr>\n",
       "      <th>technician</th>\n",
       "      <th>M</th>\n",
       "      <td>96.296296</td>\n",
       "    </tr>\n",
       "    <tr>\n",
       "      <th>retired</th>\n",
       "      <th>M</th>\n",
       "      <td>92.857143</td>\n",
       "    </tr>\n",
       "    <tr>\n",
       "      <th>programmer</th>\n",
       "      <th>M</th>\n",
       "      <td>90.909091</td>\n",
       "    </tr>\n",
       "    <tr>\n",
       "      <th>executive</th>\n",
       "      <th>M</th>\n",
       "      <td>90.625000</td>\n",
       "    </tr>\n",
       "    <tr>\n",
       "      <th>scientist</th>\n",
       "      <th>M</th>\n",
       "      <td>90.322581</td>\n",
       "    </tr>\n",
       "    <tr>\n",
       "      <th>entertainment</th>\n",
       "      <th>M</th>\n",
       "      <td>88.888889</td>\n",
       "    </tr>\n",
       "    <tr>\n",
       "      <th>lawyer</th>\n",
       "      <th>M</th>\n",
       "      <td>83.333333</td>\n",
       "    </tr>\n",
       "    <tr>\n",
       "      <th>salesman</th>\n",
       "      <th>M</th>\n",
       "      <td>75.000000</td>\n",
       "    </tr>\n",
       "    <tr>\n",
       "      <th>educator</th>\n",
       "      <th>M</th>\n",
       "      <td>72.631579</td>\n",
       "    </tr>\n",
       "    <tr>\n",
       "      <th>student</th>\n",
       "      <th>M</th>\n",
       "      <td>69.387755</td>\n",
       "    </tr>\n",
       "    <tr>\n",
       "      <th>other</th>\n",
       "      <th>M</th>\n",
       "      <td>65.714286</td>\n",
       "    </tr>\n",
       "    <tr>\n",
       "      <th>marketing</th>\n",
       "      <th>M</th>\n",
       "      <td>61.538462</td>\n",
       "    </tr>\n",
       "    <tr>\n",
       "      <th>writer</th>\n",
       "      <th>M</th>\n",
       "      <td>57.777778</td>\n",
       "    </tr>\n",
       "    <tr>\n",
       "      <th>none</th>\n",
       "      <th>M</th>\n",
       "      <td>55.555556</td>\n",
       "    </tr>\n",
       "    <tr>\n",
       "      <th>administrator</th>\n",
       "      <th>M</th>\n",
       "      <td>54.430380</td>\n",
       "    </tr>\n",
       "    <tr>\n",
       "      <th>artist</th>\n",
       "      <th>M</th>\n",
       "      <td>53.571429</td>\n",
       "    </tr>\n",
       "    <tr>\n",
       "      <th>librarian</th>\n",
       "      <th>M</th>\n",
       "      <td>43.137255</td>\n",
       "    </tr>\n",
       "    <tr>\n",
       "      <th>healthcare</th>\n",
       "      <th>M</th>\n",
       "      <td>31.250000</td>\n",
       "    </tr>\n",
       "    <tr>\n",
       "      <th>homemaker</th>\n",
       "      <th>M</th>\n",
       "      <td>14.285714</td>\n",
       "    </tr>\n",
       "  </tbody>\n",
       "</table>\n",
       "</div>"
      ],
      "text/plain": [
       "                           count\n",
       "occupation    gender            \n",
       "doctor        M       100.000000\n",
       "engineer      M        97.014925\n",
       "technician    M        96.296296\n",
       "retired       M        92.857143\n",
       "programmer    M        90.909091\n",
       "executive     M        90.625000\n",
       "scientist     M        90.322581\n",
       "entertainment M        88.888889\n",
       "lawyer        M        83.333333\n",
       "salesman      M        75.000000\n",
       "educator      M        72.631579\n",
       "student       M        69.387755\n",
       "other         M        65.714286\n",
       "marketing     M        61.538462\n",
       "writer        M        57.777778\n",
       "none          M        55.555556\n",
       "administrator M        54.430380\n",
       "artist        M        53.571429\n",
       "librarian     M        43.137255\n",
       "healthcare    M        31.250000\n",
       "homemaker     M        14.285714"
      ]
     },
     "execution_count": 89,
     "metadata": {},
     "output_type": "execute_result"
    }
   ],
   "source": [
    "maleData = pdLib1.DataFrame(users.where(users.gender=='M').groupby(['occupation','gender']).gender.agg(['count']))\n",
    "femaleData = pdLib1.DataFrame(users.where(users.gender=='F').groupby(['occupation','gender']).gender.agg(['count']))\n",
    "totalData = pdLib1.DataFrame(users.groupby(['occupation']).gender.agg(['count']))\n",
    "maleRatio = (maleData/totalData)*100\n",
    "maleRatio.sort_values(by=['count'],ascending=False)"
   ]
  },
  {
   "cell_type": "markdown",
   "id": "274e5f38",
   "metadata": {},
   "source": [
    "\n",
    "### For each occupation, calculate the minimum and maximum ages"
   ]
  },
  {
   "cell_type": "code",
   "execution_count": 4,
   "id": "5d2bc81b",
   "metadata": {},
   "outputs": [
    {
     "name": "stdout",
     "output_type": "stream",
     "text": [
      "               Minimum Age  Maximum Age\n",
      "occupation                             \n",
      "administrator           21           70\n",
      "artist                  19           48\n",
      "doctor                  28           64\n",
      "educator                23           63\n",
      "engineer                22           70\n",
      "entertainment           15           50\n",
      "executive               22           69\n",
      "healthcare              22           62\n",
      "homemaker               20           50\n",
      "lawyer                  21           53\n",
      "librarian               23           69\n",
      "marketing               24           55\n",
      "none                    11           55\n",
      "other                   13           64\n",
      "programmer              20           63\n",
      "retired                 51           73\n",
      "salesman                18           66\n",
      "scientist               23           55\n",
      "student                  7           42\n",
      "technician              21           55\n",
      "writer                  18           60\n"
     ]
    }
   ],
   "source": [
    "sSix = pdLib1.DataFrame(users.groupby('occupation').age.agg(['min', 'max']))\n",
    "sSix.columns = ['Minimum Age','Maximum Age']\n",
    "print(sSix)"
   ]
  },
  {
   "cell_type": "markdown",
   "id": "fda98078",
   "metadata": {},
   "source": [
    "### For each combination of occupation and sex, calculate the mean age\n"
   ]
  },
  {
   "cell_type": "code",
   "execution_count": 6,
   "id": "40e59239",
   "metadata": {},
   "outputs": [
    {
     "name": "stdout",
     "output_type": "stream",
     "text": [
      "                       Mean Age\n",
      "occupation    gender           \n",
      "administrator F       40.638889\n",
      "              M       37.162791\n",
      "artist        F       30.307692\n",
      "              M       32.333333\n",
      "doctor        M       43.571429\n",
      "educator      F       39.115385\n",
      "              M       43.101449\n",
      "engineer      F       29.500000\n",
      "              M       36.600000\n",
      "entertainment F       31.000000\n",
      "              M       29.000000\n",
      "executive     F       44.000000\n",
      "              M       38.172414\n",
      "healthcare    F       39.818182\n",
      "              M       45.400000\n",
      "homemaker     F       34.166667\n",
      "              M       23.000000\n",
      "lawyer        F       39.500000\n",
      "              M       36.200000\n",
      "librarian     F       40.000000\n",
      "              M       40.000000\n",
      "marketing     F       37.200000\n",
      "              M       37.875000\n",
      "none          F       36.500000\n",
      "              M       18.600000\n",
      "other         F       35.472222\n",
      "              M       34.028986\n",
      "programmer    F       32.166667\n",
      "              M       33.216667\n",
      "retired       F       70.000000\n",
      "              M       62.538462\n",
      "salesman      F       27.000000\n",
      "              M       38.555556\n",
      "scientist     F       28.333333\n",
      "              M       36.321429\n",
      "student       F       20.750000\n",
      "              M       22.669118\n",
      "technician    F       38.000000\n",
      "              M       32.961538\n",
      "writer        F       37.631579\n",
      "              M       35.346154\n"
     ]
    }
   ],
   "source": [
    "sSeven = pdLib1.DataFrame(users.groupby(['occupation','gender']).age.agg('mean'))\n",
    "sSeven.columns = ['Mean Age']\n",
    "print(sSeven)"
   ]
  },
  {
   "cell_type": "markdown",
   "id": "3ea67dc0",
   "metadata": {},
   "source": [
    "### For each occupation present the percentage of women and men\n"
   ]
  },
  {
   "cell_type": "code",
   "execution_count": 8,
   "id": "f34292b6",
   "metadata": {},
   "outputs": [
    {
     "name": "stdout",
     "output_type": "stream",
     "text": [
      "                      Percentage of Women and Men\n",
      "occupation    gender                             \n",
      "administrator F                         45.569620\n",
      "              M                         54.430380\n",
      "artist        F                         46.428571\n",
      "              M                         53.571429\n",
      "doctor        M                        100.000000\n",
      "educator      F                         27.368421\n",
      "              M                         72.631579\n",
      "engineer      F                          2.985075\n",
      "              M                         97.014925\n",
      "entertainment F                         11.111111\n",
      "              M                         88.888889\n",
      "executive     F                          9.375000\n",
      "              M                         90.625000\n",
      "healthcare    F                         68.750000\n",
      "              M                         31.250000\n",
      "homemaker     F                         85.714286\n",
      "              M                         14.285714\n",
      "lawyer        F                         16.666667\n",
      "              M                         83.333333\n",
      "librarian     F                         56.862745\n",
      "              M                         43.137255\n",
      "marketing     F                         38.461538\n",
      "              M                         61.538462\n",
      "none          F                         44.444444\n",
      "              M                         55.555556\n",
      "other         F                         34.285714\n",
      "              M                         65.714286\n",
      "programmer    F                          9.090909\n",
      "              M                         90.909091\n",
      "retired       F                          7.142857\n",
      "              M                         92.857143\n",
      "salesman      F                         25.000000\n",
      "              M                         75.000000\n",
      "scientist     F                          9.677419\n",
      "              M                         90.322581\n",
      "student       F                         30.612245\n",
      "              M                         69.387755\n",
      "technician    F                          3.703704\n",
      "              M                         96.296296\n",
      "writer        F                         42.222222\n",
      "              M                         57.777778\n"
     ]
    }
   ],
   "source": [
    "genderCount = pdLib1.DataFrame(users.groupby(['occupation','gender']).gender.agg('count'))\n",
    "occCount = pdLib1.DataFrame(users.groupby(['occupation']).gender.agg('count'))\n",
    "percentageCount = (genderCount/occCount)*100\n",
    "percentageCount.columns = ['Percentage of Women and Men']\n",
    "print(percentageCount)"
   ]
  },
  {
   "cell_type": "markdown",
   "id": "8f9a8ffb",
   "metadata": {},
   "source": [
    "# Question 2"
   ]
  },
  {
   "cell_type": "code",
   "execution_count": 9,
   "id": "d0e813fd",
   "metadata": {},
   "outputs": [],
   "source": [
    "import pandas as pdLib2\n",
    "euro12 = pdLib2.read_csv(\"https://raw.githubusercontent.com/guipsamora/pandas_exercises/master/02_Filtering_%26_Sorting/Euro12/Euro_2012_stats_TEAM.csv\", sep=',')"
   ]
  },
  {
   "cell_type": "markdown",
   "id": "8a530593",
   "metadata": {},
   "source": [
    "### Select only the Goal column\n"
   ]
  },
  {
   "cell_type": "code",
   "execution_count": 11,
   "id": "f95c2c3d",
   "metadata": {},
   "outputs": [
    {
     "name": "stdout",
     "output_type": "stream",
     "text": [
      "    Goals\n",
      "0       4\n",
      "1       4\n",
      "2       4\n",
      "3       5\n",
      "4       3\n",
      "5      10\n",
      "6       5\n",
      "7       6\n",
      "8       2\n",
      "9       2\n",
      "10      6\n",
      "11      1\n",
      "12      5\n",
      "13     12\n",
      "14      5\n",
      "15      2\n"
     ]
    }
   ],
   "source": [
    "sFour = pdLib2.DataFrame(euro12.Goals)\n",
    "print(sFour)"
   ]
  },
  {
   "cell_type": "markdown",
   "id": "649024da",
   "metadata": {},
   "source": [
    "### How many team participated in the Euro2012?"
   ]
  },
  {
   "cell_type": "code",
   "execution_count": 13,
   "id": "c08f6eba",
   "metadata": {},
   "outputs": [
    {
     "name": "stdout",
     "output_type": "stream",
     "text": [
      "Number of Teams Participated in Euro 2012: 16\n"
     ]
    }
   ],
   "source": [
    "sFive = pdLib2.DataFrame(euro12.Team).Team.agg('count')\n",
    "print(\"Number of Teams Participated in Euro 2012: \"+str(sFive))"
   ]
  },
  {
   "cell_type": "markdown",
   "id": "1f7447db",
   "metadata": {},
   "source": [
    "### What is the number of columns in the dataset?"
   ]
  },
  {
   "cell_type": "code",
   "execution_count": 14,
   "id": "a804b54d",
   "metadata": {},
   "outputs": [
    {
     "name": "stdout",
     "output_type": "stream",
     "text": [
      "Total numbers of columns: 35\n"
     ]
    }
   ],
   "source": [
    "print(\"Total numbers of columns: \"+str(len(euro12.columns)))"
   ]
  },
  {
   "cell_type": "markdown",
   "id": "906a7cbd",
   "metadata": {},
   "source": [
    "### View only the columns Team, Yellow Cards and Red Cards and assign them to a dataframe called discipline"
   ]
  },
  {
   "cell_type": "code",
   "execution_count": 15,
   "id": "c8b96086",
   "metadata": {},
   "outputs": [
    {
     "name": "stdout",
     "output_type": "stream",
     "text": [
      "                   Team  Yellow Cards  Red Cards\n",
      "0               Croatia             9          0\n",
      "1        Czech Republic             7          0\n",
      "2               Denmark             4          0\n",
      "3               England             5          0\n",
      "4                France             6          0\n",
      "5               Germany             4          0\n",
      "6                Greece             9          1\n",
      "7                 Italy            16          0\n",
      "8           Netherlands             5          0\n",
      "9                Poland             7          1\n",
      "10             Portugal            12          0\n",
      "11  Republic of Ireland             6          1\n",
      "12               Russia             6          0\n",
      "13                Spain            11          0\n",
      "14               Sweden             7          0\n",
      "15              Ukraine             5          0\n"
     ]
    }
   ],
   "source": [
    "discipline = pdLib2.DataFrame(euro12[['Team','Yellow Cards','Red Cards']])\n",
    "print(discipline)"
   ]
  },
  {
   "cell_type": "markdown",
   "id": "9ac9e2bb",
   "metadata": {},
   "source": [
    "### Sort the teams by Red Cards, then to Yellow Cards\n"
   ]
  },
  {
   "cell_type": "code",
   "execution_count": 16,
   "id": "4244787c",
   "metadata": {},
   "outputs": [
    {
     "name": "stdout",
     "output_type": "stream",
     "text": [
      "                   Team  Yellow Cards  Red Cards\n",
      "2               Denmark             4          0\n",
      "5               Germany             4          0\n",
      "3               England             5          0\n",
      "8           Netherlands             5          0\n",
      "15              Ukraine             5          0\n",
      "4                France             6          0\n",
      "12               Russia             6          0\n",
      "1        Czech Republic             7          0\n",
      "14               Sweden             7          0\n",
      "0               Croatia             9          0\n",
      "13                Spain            11          0\n",
      "10             Portugal            12          0\n",
      "7                 Italy            16          0\n",
      "11  Republic of Ireland             6          1\n",
      "9                Poland             7          1\n",
      "6                Greece             9          1\n"
     ]
    }
   ],
   "source": [
    "sEight = discipline.sort_values(by=['Red Cards', 'Yellow Cards'])\n",
    "print(sEight)"
   ]
  },
  {
   "cell_type": "markdown",
   "id": "2d6bd673",
   "metadata": {},
   "source": [
    "### Calculate the mean Yellow Cards given per Team"
   ]
  },
  {
   "cell_type": "code",
   "execution_count": 17,
   "id": "31f8ea58",
   "metadata": {},
   "outputs": [
    {
     "name": "stdout",
     "output_type": "stream",
     "text": [
      "Mean Yellow Cards Given Per Team: 7.4375\n"
     ]
    }
   ],
   "source": [
    "yellowCards = euro12['Yellow Cards']\n",
    "sNine = yellowCards.agg('mean')\n",
    "print(\"Mean Yellow Cards Given Per Team: \"+ str(sNine))"
   ]
  },
  {
   "cell_type": "markdown",
   "id": "fe47ee27",
   "metadata": {},
   "source": [
    "### Filter teams that scored more than 6 goalsStep 11. Select the teams that start with G"
   ]
  },
  {
   "cell_type": "code",
   "execution_count": 21,
   "id": "33aee19b",
   "metadata": {},
   "outputs": [
    {
     "name": "stdout",
     "output_type": "stream",
     "text": [
      "       Team  Goals\n",
      "5   Germany     10\n",
      "13    Spain     12\n"
     ]
    }
   ],
   "source": [
    "sTen = pdLib2.DataFrame(euro12[euro12['Goals']>6])\n",
    "print(sTen[['Team','Goals']])"
   ]
  },
  {
   "cell_type": "markdown",
   "id": "d4142921",
   "metadata": {},
   "source": [
    "### Select the teams that start with G"
   ]
  },
  {
   "cell_type": "code",
   "execution_count": 22,
   "id": "93975fb1",
   "metadata": {},
   "outputs": [
    {
     "name": "stdout",
     "output_type": "stream",
     "text": [
      "      Team\n",
      "5  Germany\n",
      "6   Greece\n"
     ]
    }
   ],
   "source": [
    "sEleven = euro12[euro12.Team.str.startswith('G')]\n",
    "print(sEleven[['Team']])"
   ]
  },
  {
   "cell_type": "markdown",
   "id": "f2b96d05",
   "metadata": {},
   "source": [
    "### Select the first 7 columns\n"
   ]
  },
  {
   "cell_type": "code",
   "execution_count": 23,
   "id": "b10ecf9c",
   "metadata": {},
   "outputs": [
    {
     "name": "stdout",
     "output_type": "stream",
     "text": [
      "                   Team  Goals  Shots on target  Shots off target  \\\n",
      "0               Croatia      4               13                12   \n",
      "1        Czech Republic      4               13                18   \n",
      "2               Denmark      4               10                10   \n",
      "3               England      5               11                18   \n",
      "4                France      3               22                24   \n",
      "5               Germany     10               32                32   \n",
      "6                Greece      5                8                18   \n",
      "7                 Italy      6               34                45   \n",
      "8           Netherlands      2               12                36   \n",
      "9                Poland      2               15                23   \n",
      "10             Portugal      6               22                42   \n",
      "11  Republic of Ireland      1                7                12   \n",
      "12               Russia      5                9                31   \n",
      "13                Spain     12               42                33   \n",
      "14               Sweden      5               17                19   \n",
      "15              Ukraine      2                7                26   \n",
      "\n",
      "   Shooting Accuracy % Goals-to-shots  Total shots (inc. Blocked)  \n",
      "0              51.9%            16.0%                          32  \n",
      "1              41.9%            12.9%                          39  \n",
      "2              50.0%            20.0%                          27  \n",
      "3              50.0%            17.2%                          40  \n",
      "4              37.9%             6.5%                          65  \n",
      "5              47.8%            15.6%                          80  \n",
      "6              30.7%            19.2%                          32  \n",
      "7              43.0%             7.5%                         110  \n",
      "8              25.0%             4.1%                          60  \n",
      "9              39.4%             5.2%                          48  \n",
      "10             34.3%             9.3%                          82  \n",
      "11             36.8%             5.2%                          28  \n",
      "12             22.5%            12.5%                          59  \n",
      "13             55.9%            16.0%                         100  \n",
      "14             47.2%            13.8%                          39  \n",
      "15             21.2%             6.0%                          38  \n"
     ]
    }
   ],
   "source": [
    "sTwelve = euro12.iloc[:,:7]\n",
    "print(sTwelve)"
   ]
  },
  {
   "cell_type": "markdown",
   "id": "154741ab",
   "metadata": {},
   "source": [
    "### Select all columns except the last 3"
   ]
  },
  {
   "cell_type": "code",
   "execution_count": 26,
   "id": "2f5ee900",
   "metadata": {},
   "outputs": [
    {
     "name": "stdout",
     "output_type": "stream",
     "text": [
      "                   Team  Goals  Shots on target  Shots off target  \\\n",
      "0               Croatia      4               13                12   \n",
      "1        Czech Republic      4               13                18   \n",
      "2               Denmark      4               10                10   \n",
      "3               England      5               11                18   \n",
      "4                France      3               22                24   \n",
      "5               Germany     10               32                32   \n",
      "6                Greece      5                8                18   \n",
      "7                 Italy      6               34                45   \n",
      "8           Netherlands      2               12                36   \n",
      "9                Poland      2               15                23   \n",
      "10             Portugal      6               22                42   \n",
      "11  Republic of Ireland      1                7                12   \n",
      "12               Russia      5                9                31   \n",
      "13                Spain     12               42                33   \n",
      "14               Sweden      5               17                19   \n",
      "15              Ukraine      2                7                26   \n",
      "\n",
      "   Shooting Accuracy % Goals-to-shots  Total shots (inc. Blocked)  \\\n",
      "0              51.9%            16.0%                          32   \n",
      "1              41.9%            12.9%                          39   \n",
      "2              50.0%            20.0%                          27   \n",
      "3              50.0%            17.2%                          40   \n",
      "4              37.9%             6.5%                          65   \n",
      "5              47.8%            15.6%                          80   \n",
      "6              30.7%            19.2%                          32   \n",
      "7              43.0%             7.5%                         110   \n",
      "8              25.0%             4.1%                          60   \n",
      "9              39.4%             5.2%                          48   \n",
      "10             34.3%             9.3%                          82   \n",
      "11             36.8%             5.2%                          28   \n",
      "12             22.5%            12.5%                          59   \n",
      "13             55.9%            16.0%                         100   \n",
      "14             47.2%            13.8%                          39   \n",
      "15             21.2%             6.0%                          38   \n",
      "\n",
      "    Hit Woodwork  Penalty goals  Penalties not scored  ...  Clean Sheets  \\\n",
      "0              0              0                     0  ...             0   \n",
      "1              0              0                     0  ...             1   \n",
      "2              1              0                     0  ...             1   \n",
      "3              0              0                     0  ...             2   \n",
      "4              1              0                     0  ...             1   \n",
      "5              2              1                     0  ...             1   \n",
      "6              1              1                     1  ...             1   \n",
      "7              2              0                     0  ...             2   \n",
      "8              2              0                     0  ...             0   \n",
      "9              0              0                     0  ...             0   \n",
      "10             6              0                     0  ...             2   \n",
      "11             0              0                     0  ...             0   \n",
      "12             2              0                     0  ...             0   \n",
      "13             0              1                     0  ...             5   \n",
      "14             3              0                     0  ...             1   \n",
      "15             0              0                     0  ...             0   \n",
      "\n",
      "    Blocks  Goals conceded Saves made  Saves-to-shots ratio  Fouls Won  \\\n",
      "0       10               3         13                 81.3%         41   \n",
      "1       10               6          9                 60.1%         53   \n",
      "2       10               5         10                 66.7%         25   \n",
      "3       29               3         22                 88.1%         43   \n",
      "4        7               5          6                 54.6%         36   \n",
      "5       11               6         10                 62.6%         63   \n",
      "6       23               7         13                 65.1%         67   \n",
      "7       18               7         20                 74.1%        101   \n",
      "8        9               5         12                 70.6%         35   \n",
      "9        8               3          6                 66.7%         48   \n",
      "10      11               4         10                 71.5%         73   \n",
      "11      23               9         17                 65.4%         43   \n",
      "12       8               3         10                 77.0%         34   \n",
      "13       8               1         15                 93.8%        102   \n",
      "14      12               5          8                 61.6%         35   \n",
      "15       4               4         13                 76.5%         48   \n",
      "\n",
      "    Fouls Conceded  Offsides  Yellow Cards  Red Cards  \n",
      "0               62         2             9          0  \n",
      "1               73         8             7          0  \n",
      "2               38         8             4          0  \n",
      "3               45         6             5          0  \n",
      "4               51         5             6          0  \n",
      "5               49        12             4          0  \n",
      "6               48        12             9          1  \n",
      "7               89        16            16          0  \n",
      "8               30         3             5          0  \n",
      "9               56         3             7          1  \n",
      "10              90        10            12          0  \n",
      "11              51        11             6          1  \n",
      "12              43         4             6          0  \n",
      "13              83        19            11          0  \n",
      "14              51         7             7          0  \n",
      "15              31         4             5          0  \n",
      "\n",
      "[16 rows x 32 columns]\n"
     ]
    }
   ],
   "source": [
    "sThirteen = euro12.iloc[:,:-3]\n",
    "print(sThirteen)"
   ]
  },
  {
   "cell_type": "markdown",
   "id": "ad9b8a77",
   "metadata": {},
   "source": [
    "### Present only the Shooting Accuracy from England, Italy and Russia"
   ]
  },
  {
   "cell_type": "code",
   "execution_count": 25,
   "id": "061d71f5",
   "metadata": {},
   "outputs": [
    {
     "name": "stdout",
     "output_type": "stream",
     "text": [
      "       Team Shooting Accuracy\n",
      "3   England             50.0%\n",
      "7     Italy             43.0%\n",
      "12   Russia             22.5%\n"
     ]
    }
   ],
   "source": [
    "sFourteen = euro12[euro12.Team.isin(['England','Italy','Russia'])]\n",
    "print(sFourteen[['Team','Shooting Accuracy']])"
   ]
  },
  {
   "cell_type": "markdown",
   "id": "08e0879b",
   "metadata": {},
   "source": [
    "# Question 3"
   ]
  },
  {
   "cell_type": "markdown",
   "id": "cfb08ba2",
   "metadata": {},
   "source": [
    "### Create 3 differents Series, each of length 100, as follows:\n",
    "• The first a random number from 1 to 4\n",
    "• The second a random number from 1 to 3\n",
    "• The third a random number from 10,000 to 30,000"
   ]
  },
  {
   "cell_type": "code",
   "execution_count": 32,
   "id": "d66be1c8",
   "metadata": {},
   "outputs": [],
   "source": [
    "import pandas as pdLib3\n",
    "import numpy as np\n",
    "import random\n",
    "\n",
    "sOne = np.random.randint(1,4,100)\n",
    "sTwo = np.random.randint(1,3,100)\n",
    "sThree = np.random.randint(10000,30000,100)\n",
    "\n",
    "randomSeriesOne = pdLib3.Series(sOne)\n",
    "randomSeriesTwo = pdLib3.Series(sTwo)\n",
    "randomseriesThree = pdLib3.Series(sThree)\n"
   ]
  },
  {
   "cell_type": "markdown",
   "id": "f461d2fc",
   "metadata": {},
   "source": [
    "### Create a DataFrame by joinning the Series by column"
   ]
  },
  {
   "cell_type": "code",
   "execution_count": 33,
   "id": "2324b7d7",
   "metadata": {},
   "outputs": [
    {
     "name": "stdout",
     "output_type": "stream",
     "text": [
      "    Series One  Series Two  Series Three\n",
      "0            1           1         27448\n",
      "1            1           2         23986\n",
      "2            1           2         29997\n",
      "3            3           1         27201\n",
      "4            3           2         22802\n",
      "..         ...         ...           ...\n",
      "95           3           2         29659\n",
      "96           1           2         22259\n",
      "97           2           1         19223\n",
      "98           2           2         19721\n",
      "99           1           2         29252\n",
      "\n",
      "[100 rows x 3 columns]\n"
     ]
    }
   ],
   "source": [
    "dataFrame = pdLib3.DataFrame({'Series One':randomSeriesOne,'Series Two':randomSeriesTwo,'Series Three':randomseriesThree})\n",
    "print(dataFrame)"
   ]
  },
  {
   "cell_type": "markdown",
   "id": "89e34034",
   "metadata": {},
   "source": [
    "### Change the name of the columns to bedrs, bathrs, price_sqr_meter\n",
    "### Create a one column DataFrame with the values of the 3 Series and assign it to 'bigcolumn'"
   ]
  },
  {
   "cell_type": "code",
   "execution_count": 29,
   "id": "acdd8577",
   "metadata": {},
   "outputs": [
    {
     "name": "stdout",
     "output_type": "stream",
     "text": [
      "0         3\n",
      "1         2\n",
      "2         2\n",
      "3         1\n",
      "4         3\n",
      "      ...  \n",
      "95    16210\n",
      "96    25411\n",
      "97    23593\n",
      "98    16168\n",
      "99    26091\n",
      "Length: 300, dtype: object\n"
     ]
    }
   ],
   "source": [
    "finalDataFrame = dataFrame.rename(columns={'Series One':'bedrs','Series Two':'bathrs','Series Three':'price_sqr_meter'})\n",
    "\n",
    "bigcolumn = pdLib3.concat([finalDataFrame.bedrs.astype(str),finalDataFrame.bathrs.astype(str),finalDataFrame.price_sqr_meter.astype(str)])\n",
    "print(bigcolumn)"
   ]
  },
  {
   "cell_type": "markdown",
   "id": "b6909464",
   "metadata": {},
   "source": [
    "### Ops it seems it is going only until index 99. Is it true?\n",
    "### Reindex the DataFrame so it goes from 0 to 299"
   ]
  },
  {
   "cell_type": "code",
   "execution_count": 30,
   "id": "9cd2504b",
   "metadata": {},
   "outputs": [
    {
     "data": {
      "text/plain": [
       "0          3\n",
       "1          2\n",
       "2          2\n",
       "3          1\n",
       "4          3\n",
       "       ...  \n",
       "295    16210\n",
       "296    25411\n",
       "297    23593\n",
       "298    16168\n",
       "299    26091\n",
       "Length: 300, dtype: object"
      ]
     },
     "execution_count": 30,
     "metadata": {},
     "output_type": "execute_result"
    }
   ],
   "source": [
    "bigcolumn.reset_index(drop=True)"
   ]
  },
  {
   "cell_type": "markdown",
   "id": "f9ecb662",
   "metadata": {},
   "source": [
    "# Question 4"
   ]
  },
  {
   "cell_type": "markdown",
   "id": "c71e2523",
   "metadata": {},
   "source": [
    "### Assign it to a variable called data and replace the first 3 columns by a proper datetime index."
   ]
  },
  {
   "cell_type": "code",
   "execution_count": 34,
   "id": "32a4adb1",
   "metadata": {},
   "outputs": [
    {
     "name": "stdout",
     "output_type": "stream",
     "text": [
      "       Yr_Mo_Dy    RPT    VAL    ROS    KIL    SHA    BIR    DUB    CLA  \\\n",
      "0    2061-01-01  15.04  14.96  13.17   9.29    NaN   9.87  13.67  10.25   \n",
      "1    2061-01-02  14.71    NaN  10.83   6.50  12.62   7.67  11.50  10.04   \n",
      "2    2061-01-03  18.50  16.88  12.33  10.13  11.17   6.17  11.25    NaN   \n",
      "3    2061-01-04  10.58   6.63  11.75   4.58   4.54   2.88   8.63   1.79   \n",
      "4    2061-01-05  13.33  13.25  11.42   6.17  10.71   8.21  11.92   6.54   \n",
      "...         ...    ...    ...    ...    ...    ...    ...    ...    ...   \n",
      "6569 1978-12-27  17.58  16.96  17.62   8.08  13.21  11.67  14.46  15.59   \n",
      "6570 1978-12-28  13.21   5.46  13.46   5.00   8.12   9.42  14.33  16.25   \n",
      "6571 1978-12-29  14.00  10.29  14.42   8.71   9.71  10.54  19.17  12.46   \n",
      "6572 1978-12-30  18.50  14.04  21.29   9.13  12.75   9.71  18.08  12.87   \n",
      "6573 1978-12-31  20.33  17.41  27.29   9.59  12.08  10.13  19.25  11.63   \n",
      "\n",
      "        MUL    CLO    BEL    MAL  \n",
      "0     10.83  12.58  18.50  15.04  \n",
      "1      9.79   9.67  17.54  13.83  \n",
      "2      8.50   7.67  12.75  12.71  \n",
      "3      5.83   5.88   5.46  10.88  \n",
      "4     10.92  10.34  12.92  11.83  \n",
      "...     ...    ...    ...    ...  \n",
      "6569  14.04  14.00  17.21  40.08  \n",
      "6570  15.25  18.05  21.79  41.46  \n",
      "6571  14.50  16.42  18.88  29.58  \n",
      "6572  12.46  12.12  14.67  28.79  \n",
      "6573  11.58  11.38  12.08  22.08  \n",
      "\n",
      "[6574 rows x 13 columns]\n"
     ]
    }
   ],
   "source": [
    "import pandas as pdLib4\n",
    "data = pdLib4.read_csv(\"https://raw.githubusercontent.com/guipsamora/pandas_exercises/master/06_Stats/Wind_Stats/wind.data\", sep=\"\\s+\",parse_dates=[[0,1,2]])\n",
    "print(data)"
   ]
  },
  {
   "cell_type": "markdown",
   "id": "fd92210c",
   "metadata": {},
   "source": [
    "### Year 2061? Do we really have data from this year? Create a function to fix it and apply it"
   ]
  },
  {
   "cell_type": "code",
   "execution_count": 35,
   "id": "8305540c",
   "metadata": {},
   "outputs": [
    {
     "name": "stdout",
     "output_type": "stream",
     "text": [
      "        Yr_Mo_Dy    RPT    VAL    ROS    KIL    SHA    BIR    DUB    CLA  \\\n",
      "0     1961-01-01  15.04  14.96  13.17   9.29    NaN   9.87  13.67  10.25   \n",
      "1     1961-01-02  14.71    NaN  10.83   6.50  12.62   7.67  11.50  10.04   \n",
      "2     1961-01-03  18.50  16.88  12.33  10.13  11.17   6.17  11.25    NaN   \n",
      "3     1961-01-04  10.58   6.63  11.75   4.58   4.54   2.88   8.63   1.79   \n",
      "4     1961-01-05  13.33  13.25  11.42   6.17  10.71   8.21  11.92   6.54   \n",
      "...          ...    ...    ...    ...    ...    ...    ...    ...    ...   \n",
      "6569  1978-12-27  17.58  16.96  17.62   8.08  13.21  11.67  14.46  15.59   \n",
      "6570  1978-12-28  13.21   5.46  13.46   5.00   8.12   9.42  14.33  16.25   \n",
      "6571  1978-12-29  14.00  10.29  14.42   8.71   9.71  10.54  19.17  12.46   \n",
      "6572  1978-12-30  18.50  14.04  21.29   9.13  12.75   9.71  18.08  12.87   \n",
      "6573  1978-12-31  20.33  17.41  27.29   9.59  12.08  10.13  19.25  11.63   \n",
      "\n",
      "        MUL    CLO    BEL    MAL  \n",
      "0     10.83  12.58  18.50  15.04  \n",
      "1      9.79   9.67  17.54  13.83  \n",
      "2      8.50   7.67  12.75  12.71  \n",
      "3      5.83   5.88   5.46  10.88  \n",
      "4     10.92  10.34  12.92  11.83  \n",
      "...     ...    ...    ...    ...  \n",
      "6569  14.04  14.00  17.21  40.08  \n",
      "6570  15.25  18.05  21.79  41.46  \n",
      "6571  14.50  16.42  18.88  29.58  \n",
      "6572  12.46  12.12  14.67  28.79  \n",
      "6573  11.58  11.38  12.08  22.08  \n",
      "\n",
      "[6574 rows x 13 columns]\n"
     ]
    }
   ],
   "source": [
    "import datetime\n",
    "\n",
    "def updateDate(date):\n",
    "    if date.year >= 2000:\n",
    "        year = date.year - 100\n",
    "    else:\n",
    "        year = date.year\n",
    "    return datetime.date(year,date.month,date.day)\n",
    "\n",
    "data.Yr_Mo_Dy = data.Yr_Mo_Dy.apply(updateDate)\n",
    "print(data)"
   ]
  },
  {
   "cell_type": "markdown",
   "id": "6a27ccea",
   "metadata": {},
   "source": [
    "### Set the right dates as the index. Pay attention at the data type, it should be datetime64[ns]."
   ]
  },
  {
   "cell_type": "code",
   "execution_count": 36,
   "id": "4e257549",
   "metadata": {},
   "outputs": [
    {
     "name": "stdout",
     "output_type": "stream",
     "text": [
      "              RPT    VAL    ROS    KIL    SHA    BIR    DUB    CLA    MUL  \\\n",
      "Yr_Mo_Dy                                                                    \n",
      "1961-01-01  15.04  14.96  13.17   9.29    NaN   9.87  13.67  10.25  10.83   \n",
      "1961-01-02  14.71    NaN  10.83   6.50  12.62   7.67  11.50  10.04   9.79   \n",
      "1961-01-03  18.50  16.88  12.33  10.13  11.17   6.17  11.25    NaN   8.50   \n",
      "1961-01-04  10.58   6.63  11.75   4.58   4.54   2.88   8.63   1.79   5.83   \n",
      "1961-01-05  13.33  13.25  11.42   6.17  10.71   8.21  11.92   6.54  10.92   \n",
      "...           ...    ...    ...    ...    ...    ...    ...    ...    ...   \n",
      "1978-12-27  17.58  16.96  17.62   8.08  13.21  11.67  14.46  15.59  14.04   \n",
      "1978-12-28  13.21   5.46  13.46   5.00   8.12   9.42  14.33  16.25  15.25   \n",
      "1978-12-29  14.00  10.29  14.42   8.71   9.71  10.54  19.17  12.46  14.50   \n",
      "1978-12-30  18.50  14.04  21.29   9.13  12.75   9.71  18.08  12.87  12.46   \n",
      "1978-12-31  20.33  17.41  27.29   9.59  12.08  10.13  19.25  11.63  11.58   \n",
      "\n",
      "              CLO    BEL    MAL  \n",
      "Yr_Mo_Dy                         \n",
      "1961-01-01  12.58  18.50  15.04  \n",
      "1961-01-02   9.67  17.54  13.83  \n",
      "1961-01-03   7.67  12.75  12.71  \n",
      "1961-01-04   5.88   5.46  10.88  \n",
      "1961-01-05  10.34  12.92  11.83  \n",
      "...           ...    ...    ...  \n",
      "1978-12-27  14.00  17.21  40.08  \n",
      "1978-12-28  18.05  21.79  41.46  \n",
      "1978-12-29  16.42  18.88  29.58  \n",
      "1978-12-30  12.12  14.67  28.79  \n",
      "1978-12-31  11.38  12.08  22.08  \n",
      "\n",
      "[6574 rows x 12 columns]\n"
     ]
    }
   ],
   "source": [
    "data.Yr_Mo_Dy = pdLib4.to_datetime(data.Yr_Mo_Dy)\n",
    "data = data.set_index('Yr_Mo_Dy')\n",
    "print(data)"
   ]
  },
  {
   "cell_type": "markdown",
   "id": "ad2c3ea9",
   "metadata": {},
   "source": [
    "### Compute how many values are missing for each location over the entire record.They should be ignored in all calculations below."
   ]
  },
  {
   "cell_type": "code",
   "execution_count": 37,
   "id": "c1e6ac8d",
   "metadata": {},
   "outputs": [
    {
     "name": "stdout",
     "output_type": "stream",
     "text": [
      "RPT    6\n",
      "VAL    3\n",
      "ROS    2\n",
      "KIL    5\n",
      "SHA    2\n",
      "BIR    0\n",
      "DUB    3\n",
      "CLA    2\n",
      "MUL    3\n",
      "CLO    1\n",
      "BEL    0\n",
      "MAL    4\n",
      "dtype: int64\n"
     ]
    }
   ],
   "source": [
    "isNull = data.isnull()\n",
    "print(isNull.sum())"
   ]
  },
  {
   "cell_type": "markdown",
   "id": "83fcfb81",
   "metadata": {},
   "source": [
    "### Compute how many non-missing values there are in total."
   ]
  },
  {
   "cell_type": "code",
   "execution_count": 38,
   "id": "755bcdc1",
   "metadata": {},
   "outputs": [
    {
     "name": "stdout",
     "output_type": "stream",
     "text": [
      "RPT    6568\n",
      "VAL    6571\n",
      "ROS    6572\n",
      "KIL    6569\n",
      "SHA    6572\n",
      "BIR    6574\n",
      "DUB    6571\n",
      "CLA    6572\n",
      "MUL    6571\n",
      "CLO    6573\n",
      "BEL    6574\n",
      "MAL    6570\n",
      "dtype: int64\n"
     ]
    }
   ],
   "source": [
    "notNull = data.notnull()\n",
    "print(notNull.sum())"
   ]
  },
  {
   "cell_type": "markdown",
   "id": "3d49110d",
   "metadata": {},
   "source": [
    "### Calculate the mean windspeeds of the windspeeds over all the locations and all the times."
   ]
  },
  {
   "cell_type": "code",
   "execution_count": 40,
   "id": "e2fe077d",
   "metadata": {},
   "outputs": [
    {
     "name": "stdout",
     "output_type": "stream",
     "text": [
      "RPT    12.362987\n",
      "VAL    10.644314\n",
      "ROS    11.660526\n",
      "KIL     6.306468\n",
      "SHA    10.455834\n",
      "BIR     7.092254\n",
      "DUB     9.797343\n",
      "CLA     8.495053\n",
      "MUL     8.493590\n",
      "CLO     8.707332\n",
      "BEL    13.121007\n",
      "MAL    15.599079\n",
      "dtype: float64\n"
     ]
    }
   ],
   "source": [
    "meanData = data.mean()\n",
    "print(meanData)"
   ]
  },
  {
   "cell_type": "markdown",
   "id": "9d9789c2",
   "metadata": {},
   "source": [
    "### Create a DataFrame called loc_stats and calculate the min, max and mean windspeeds and standard deviations of the windspeeds at each location over all the days"
   ]
  },
  {
   "cell_type": "code",
   "execution_count": 42,
   "id": "0f2d0f4f",
   "metadata": {},
   "outputs": [
    {
     "name": "stdout",
     "output_type": "stream",
     "text": [
      "      Min    Max       Mean  Standard_Deviations\n",
      "RPT  0.67  35.80  12.362987             5.618413\n",
      "VAL  0.21  33.37  10.644314             5.267356\n",
      "ROS  1.50  33.84  11.660526             5.008450\n",
      "KIL  0.00  28.46   6.306468             3.605811\n",
      "SHA  0.13  37.54  10.455834             4.936125\n",
      "BIR  0.00  26.16   7.092254             3.968683\n",
      "DUB  0.00  30.37   9.797343             4.977555\n",
      "CLA  0.00  31.08   8.495053             4.499449\n",
      "MUL  0.00  25.88   8.493590             4.166872\n",
      "CLO  0.04  28.21   8.707332             4.503954\n",
      "BEL  0.13  42.38  13.121007             5.835037\n",
      "MAL  0.67  42.54  15.599079             6.699794\n"
     ]
    }
   ],
   "source": [
    "tempData = {'Min':data.min(),'Max':data.max(),'Mean':data.mean(),'Standard_Deviations':data.std()}\n",
    "loc_stats = pdLib4.DataFrame(tempData)\n",
    "print(loc_stats)"
   ]
  },
  {
   "cell_type": "markdown",
   "id": "f24f6ad5",
   "metadata": {},
   "source": [
    "### Create a DataFrame called day_stats and calculate the min, max and mean windspeed and standard deviations of the windspeeds across all the locations at each day."
   ]
  },
  {
   "cell_type": "code",
   "execution_count": 43,
   "id": "a6d42078",
   "metadata": {},
   "outputs": [
    {
     "name": "stdout",
     "output_type": "stream",
     "text": [
      "             Min    Max       Mean  Standard_Deviations\n",
      "Yr_Mo_Dy                                               \n",
      "1961-01-01  9.29  18.50  13.018182             2.808875\n",
      "1961-01-02  6.50  17.54  11.336364             3.188994\n",
      "1961-01-03  6.17  18.50  11.641818             3.681912\n",
      "1961-01-04  1.79  11.75   6.619167             3.198126\n",
      "1961-01-05  6.17  13.33  10.630000             2.445356\n",
      "...          ...    ...        ...                  ...\n",
      "1978-12-27  8.08  40.08  16.708333             7.868076\n",
      "1978-12-28  5.00  41.46  15.150000             9.687857\n",
      "1978-12-29  8.71  29.58  14.890000             5.756836\n",
      "1978-12-30  9.13  28.79  15.367500             5.540437\n",
      "1978-12-31  9.59  27.29  15.402500             5.702483\n",
      "\n",
      "[6574 rows x 4 columns]\n"
     ]
    }
   ],
   "source": [
    "temp2 = {'Min':data.min(axis=1),'Max':data.max(axis=1),'Mean':data.mean(axis=1),'Standard_Deviations':data.std(axis=1)}\n",
    "day_stats = pdLib4.DataFrame(temp2)\n",
    "print(day_stats)"
   ]
  },
  {
   "cell_type": "markdown",
   "id": "c25d9a58",
   "metadata": {},
   "source": [
    "### Find the average windspeed in January for each location. Treat January 1961 and January 1962 both as January"
   ]
  },
  {
   "cell_type": "code",
   "execution_count": 44,
   "id": "5d11a4f5",
   "metadata": {},
   "outputs": [
    {
     "name": "stdout",
     "output_type": "stream",
     "text": [
      "     Average Windspeed\n",
      "RPT          14.847325\n",
      "VAL          12.914560\n",
      "ROS          13.299624\n",
      "KIL           7.199498\n",
      "SHA          11.667734\n",
      "BIR           8.054839\n",
      "DUB          11.819355\n",
      "CLA           9.512047\n",
      "MUL           9.543208\n",
      "CLO          10.053566\n",
      "BEL          14.550520\n",
      "MAL          18.028763\n"
     ]
    }
   ],
   "source": [
    "import pandas as step11\n",
    "data2 = step11.read_csv(\"https://raw.githubusercontent.com/guipsamora/pandas_exercises/master/06_Stats/Wind_Stats/wind.data\", sep=\"\\s+\")\n",
    "\n",
    "monthData = data2[data2.Mo == 1].iloc[:,3:]\n",
    "temp = {'Average Windspeed':monthData.mean()}\n",
    "average = step11.DataFrame(temp)\n",
    "print(average)"
   ]
  },
  {
   "cell_type": "markdown",
   "id": "239afd4b",
   "metadata": {},
   "source": [
    "### Downsample the record to a yearly frequency for each location."
   ]
  },
  {
   "cell_type": "code",
   "execution_count": 78,
   "id": "33665de7",
   "metadata": {},
   "outputs": [
    {
     "data": {
      "text/html": [
       "<div>\n",
       "<style scoped>\n",
       "    .dataframe tbody tr th:only-of-type {\n",
       "        vertical-align: middle;\n",
       "    }\n",
       "\n",
       "    .dataframe tbody tr th {\n",
       "        vertical-align: top;\n",
       "    }\n",
       "\n",
       "    .dataframe thead th {\n",
       "        text-align: right;\n",
       "    }\n",
       "</style>\n",
       "<table border=\"1\" class=\"dataframe\">\n",
       "  <thead>\n",
       "    <tr style=\"text-align: right;\">\n",
       "      <th></th>\n",
       "      <th>RPT</th>\n",
       "      <th>VAL</th>\n",
       "      <th>ROS</th>\n",
       "      <th>KIL</th>\n",
       "      <th>SHA</th>\n",
       "      <th>BIR</th>\n",
       "      <th>DUB</th>\n",
       "      <th>CLA</th>\n",
       "      <th>MUL</th>\n",
       "      <th>CLO</th>\n",
       "      <th>BEL</th>\n",
       "      <th>MAL</th>\n",
       "    </tr>\n",
       "    <tr>\n",
       "      <th>Yr_Mo_Dy</th>\n",
       "      <th></th>\n",
       "      <th></th>\n",
       "      <th></th>\n",
       "      <th></th>\n",
       "      <th></th>\n",
       "      <th></th>\n",
       "      <th></th>\n",
       "      <th></th>\n",
       "      <th></th>\n",
       "      <th></th>\n",
       "      <th></th>\n",
       "      <th></th>\n",
       "    </tr>\n",
       "  </thead>\n",
       "  <tbody>\n",
       "    <tr>\n",
       "      <th>1961-12-31</th>\n",
       "      <td>12.299583</td>\n",
       "      <td>10.351796</td>\n",
       "      <td>11.362369</td>\n",
       "      <td>6.958227</td>\n",
       "      <td>10.881763</td>\n",
       "      <td>7.729726</td>\n",
       "      <td>9.733923</td>\n",
       "      <td>8.858788</td>\n",
       "      <td>8.647652</td>\n",
       "      <td>9.835577</td>\n",
       "      <td>13.502795</td>\n",
       "      <td>13.680773</td>\n",
       "    </tr>\n",
       "    <tr>\n",
       "      <th>1962-12-31</th>\n",
       "      <td>12.246923</td>\n",
       "      <td>10.110438</td>\n",
       "      <td>11.732712</td>\n",
       "      <td>6.960440</td>\n",
       "      <td>10.657918</td>\n",
       "      <td>7.393068</td>\n",
       "      <td>11.020712</td>\n",
       "      <td>8.793753</td>\n",
       "      <td>8.316822</td>\n",
       "      <td>9.676247</td>\n",
       "      <td>12.930685</td>\n",
       "      <td>14.323956</td>\n",
       "    </tr>\n",
       "    <tr>\n",
       "      <th>1963-12-31</th>\n",
       "      <td>12.813452</td>\n",
       "      <td>10.836986</td>\n",
       "      <td>12.541151</td>\n",
       "      <td>7.330055</td>\n",
       "      <td>11.724110</td>\n",
       "      <td>8.434712</td>\n",
       "      <td>11.075699</td>\n",
       "      <td>10.336548</td>\n",
       "      <td>8.903589</td>\n",
       "      <td>10.224438</td>\n",
       "      <td>13.638877</td>\n",
       "      <td>14.999014</td>\n",
       "    </tr>\n",
       "    <tr>\n",
       "      <th>1964-12-31</th>\n",
       "      <td>12.363661</td>\n",
       "      <td>10.920164</td>\n",
       "      <td>12.104372</td>\n",
       "      <td>6.787787</td>\n",
       "      <td>11.454481</td>\n",
       "      <td>7.570874</td>\n",
       "      <td>10.259153</td>\n",
       "      <td>9.467350</td>\n",
       "      <td>7.789016</td>\n",
       "      <td>10.207951</td>\n",
       "      <td>13.740546</td>\n",
       "      <td>14.910301</td>\n",
       "    </tr>\n",
       "    <tr>\n",
       "      <th>1965-12-31</th>\n",
       "      <td>12.451370</td>\n",
       "      <td>11.075534</td>\n",
       "      <td>11.848767</td>\n",
       "      <td>6.858466</td>\n",
       "      <td>11.024795</td>\n",
       "      <td>7.478110</td>\n",
       "      <td>10.618712</td>\n",
       "      <td>8.879918</td>\n",
       "      <td>7.907425</td>\n",
       "      <td>9.918082</td>\n",
       "      <td>12.964247</td>\n",
       "      <td>15.591644</td>\n",
       "    </tr>\n",
       "    <tr>\n",
       "      <th>1966-12-31</th>\n",
       "      <td>13.461973</td>\n",
       "      <td>11.557205</td>\n",
       "      <td>12.020630</td>\n",
       "      <td>7.345726</td>\n",
       "      <td>11.805041</td>\n",
       "      <td>7.793671</td>\n",
       "      <td>10.579808</td>\n",
       "      <td>8.835096</td>\n",
       "      <td>8.514438</td>\n",
       "      <td>9.768959</td>\n",
       "      <td>14.265836</td>\n",
       "      <td>16.307260</td>\n",
       "    </tr>\n",
       "    <tr>\n",
       "      <th>1967-12-31</th>\n",
       "      <td>12.737151</td>\n",
       "      <td>10.990986</td>\n",
       "      <td>11.739397</td>\n",
       "      <td>7.143425</td>\n",
       "      <td>11.630740</td>\n",
       "      <td>7.368164</td>\n",
       "      <td>10.652027</td>\n",
       "      <td>9.325616</td>\n",
       "      <td>8.645014</td>\n",
       "      <td>9.547425</td>\n",
       "      <td>14.774548</td>\n",
       "      <td>17.135945</td>\n",
       "    </tr>\n",
       "    <tr>\n",
       "      <th>1968-12-31</th>\n",
       "      <td>11.835628</td>\n",
       "      <td>10.468197</td>\n",
       "      <td>11.409754</td>\n",
       "      <td>6.477678</td>\n",
       "      <td>10.760765</td>\n",
       "      <td>6.067322</td>\n",
       "      <td>8.859180</td>\n",
       "      <td>8.255519</td>\n",
       "      <td>7.224945</td>\n",
       "      <td>7.832978</td>\n",
       "      <td>12.808634</td>\n",
       "      <td>15.017486</td>\n",
       "    </tr>\n",
       "    <tr>\n",
       "      <th>1969-12-31</th>\n",
       "      <td>11.166356</td>\n",
       "      <td>9.723699</td>\n",
       "      <td>10.902000</td>\n",
       "      <td>5.767973</td>\n",
       "      <td>9.873918</td>\n",
       "      <td>6.189973</td>\n",
       "      <td>8.564493</td>\n",
       "      <td>7.711397</td>\n",
       "      <td>7.924521</td>\n",
       "      <td>7.754384</td>\n",
       "      <td>12.621233</td>\n",
       "      <td>15.762904</td>\n",
       "    </tr>\n",
       "    <tr>\n",
       "      <th>1970-12-31</th>\n",
       "      <td>12.600329</td>\n",
       "      <td>10.726932</td>\n",
       "      <td>11.730247</td>\n",
       "      <td>6.217178</td>\n",
       "      <td>10.567370</td>\n",
       "      <td>7.609452</td>\n",
       "      <td>9.609890</td>\n",
       "      <td>8.334630</td>\n",
       "      <td>9.297616</td>\n",
       "      <td>8.289808</td>\n",
       "      <td>13.183644</td>\n",
       "      <td>16.456027</td>\n",
       "    </tr>\n",
       "    <tr>\n",
       "      <th>1971-12-31</th>\n",
       "      <td>11.273123</td>\n",
       "      <td>9.095178</td>\n",
       "      <td>11.088329</td>\n",
       "      <td>5.241507</td>\n",
       "      <td>9.440329</td>\n",
       "      <td>6.097151</td>\n",
       "      <td>8.385890</td>\n",
       "      <td>6.757315</td>\n",
       "      <td>7.915370</td>\n",
       "      <td>7.229753</td>\n",
       "      <td>12.208932</td>\n",
       "      <td>15.025233</td>\n",
       "    </tr>\n",
       "    <tr>\n",
       "      <th>1972-12-31</th>\n",
       "      <td>12.463962</td>\n",
       "      <td>10.561311</td>\n",
       "      <td>12.058333</td>\n",
       "      <td>5.929699</td>\n",
       "      <td>9.430410</td>\n",
       "      <td>6.358825</td>\n",
       "      <td>9.704508</td>\n",
       "      <td>7.680792</td>\n",
       "      <td>8.357295</td>\n",
       "      <td>7.515273</td>\n",
       "      <td>12.727377</td>\n",
       "      <td>15.028716</td>\n",
       "    </tr>\n",
       "    <tr>\n",
       "      <th>1973-12-31</th>\n",
       "      <td>11.828466</td>\n",
       "      <td>10.680493</td>\n",
       "      <td>10.680493</td>\n",
       "      <td>5.547863</td>\n",
       "      <td>9.640877</td>\n",
       "      <td>6.548740</td>\n",
       "      <td>8.482110</td>\n",
       "      <td>7.614274</td>\n",
       "      <td>8.245534</td>\n",
       "      <td>7.812411</td>\n",
       "      <td>12.169699</td>\n",
       "      <td>15.441096</td>\n",
       "    </tr>\n",
       "    <tr>\n",
       "      <th>1974-12-31</th>\n",
       "      <td>13.643096</td>\n",
       "      <td>11.811781</td>\n",
       "      <td>12.336356</td>\n",
       "      <td>6.427041</td>\n",
       "      <td>11.110986</td>\n",
       "      <td>6.809781</td>\n",
       "      <td>10.084603</td>\n",
       "      <td>9.896986</td>\n",
       "      <td>9.331753</td>\n",
       "      <td>8.736356</td>\n",
       "      <td>13.252959</td>\n",
       "      <td>16.947671</td>\n",
       "    </tr>\n",
       "    <tr>\n",
       "      <th>1975-12-31</th>\n",
       "      <td>12.008575</td>\n",
       "      <td>10.293836</td>\n",
       "      <td>11.564712</td>\n",
       "      <td>5.269096</td>\n",
       "      <td>9.190082</td>\n",
       "      <td>5.668521</td>\n",
       "      <td>8.562603</td>\n",
       "      <td>7.843836</td>\n",
       "      <td>8.797945</td>\n",
       "      <td>7.382822</td>\n",
       "      <td>12.631671</td>\n",
       "      <td>15.307863</td>\n",
       "    </tr>\n",
       "    <tr>\n",
       "      <th>1976-12-31</th>\n",
       "      <td>11.737842</td>\n",
       "      <td>10.203115</td>\n",
       "      <td>10.761230</td>\n",
       "      <td>5.109426</td>\n",
       "      <td>8.846339</td>\n",
       "      <td>6.311038</td>\n",
       "      <td>9.149126</td>\n",
       "      <td>7.146202</td>\n",
       "      <td>8.883716</td>\n",
       "      <td>7.883087</td>\n",
       "      <td>12.332377</td>\n",
       "      <td>15.471448</td>\n",
       "    </tr>\n",
       "    <tr>\n",
       "      <th>1977-12-31</th>\n",
       "      <td>13.099616</td>\n",
       "      <td>11.144493</td>\n",
       "      <td>12.627836</td>\n",
       "      <td>6.073945</td>\n",
       "      <td>10.003836</td>\n",
       "      <td>8.586438</td>\n",
       "      <td>11.523205</td>\n",
       "      <td>8.378384</td>\n",
       "      <td>9.098192</td>\n",
       "      <td>8.821616</td>\n",
       "      <td>13.459068</td>\n",
       "      <td>16.590849</td>\n",
       "    </tr>\n",
       "    <tr>\n",
       "      <th>1978-12-31</th>\n",
       "      <td>12.504356</td>\n",
       "      <td>11.044274</td>\n",
       "      <td>11.380000</td>\n",
       "      <td>6.082356</td>\n",
       "      <td>10.167233</td>\n",
       "      <td>7.650658</td>\n",
       "      <td>9.489342</td>\n",
       "      <td>8.800466</td>\n",
       "      <td>9.089753</td>\n",
       "      <td>8.301699</td>\n",
       "      <td>12.967397</td>\n",
       "      <td>16.771370</td>\n",
       "    </tr>\n",
       "  </tbody>\n",
       "</table>\n",
       "</div>"
      ],
      "text/plain": [
       "                  RPT        VAL        ROS       KIL        SHA       BIR  \\\n",
       "Yr_Mo_Dy                                                                     \n",
       "1961-12-31  12.299583  10.351796  11.362369  6.958227  10.881763  7.729726   \n",
       "1962-12-31  12.246923  10.110438  11.732712  6.960440  10.657918  7.393068   \n",
       "1963-12-31  12.813452  10.836986  12.541151  7.330055  11.724110  8.434712   \n",
       "1964-12-31  12.363661  10.920164  12.104372  6.787787  11.454481  7.570874   \n",
       "1965-12-31  12.451370  11.075534  11.848767  6.858466  11.024795  7.478110   \n",
       "1966-12-31  13.461973  11.557205  12.020630  7.345726  11.805041  7.793671   \n",
       "1967-12-31  12.737151  10.990986  11.739397  7.143425  11.630740  7.368164   \n",
       "1968-12-31  11.835628  10.468197  11.409754  6.477678  10.760765  6.067322   \n",
       "1969-12-31  11.166356   9.723699  10.902000  5.767973   9.873918  6.189973   \n",
       "1970-12-31  12.600329  10.726932  11.730247  6.217178  10.567370  7.609452   \n",
       "1971-12-31  11.273123   9.095178  11.088329  5.241507   9.440329  6.097151   \n",
       "1972-12-31  12.463962  10.561311  12.058333  5.929699   9.430410  6.358825   \n",
       "1973-12-31  11.828466  10.680493  10.680493  5.547863   9.640877  6.548740   \n",
       "1974-12-31  13.643096  11.811781  12.336356  6.427041  11.110986  6.809781   \n",
       "1975-12-31  12.008575  10.293836  11.564712  5.269096   9.190082  5.668521   \n",
       "1976-12-31  11.737842  10.203115  10.761230  5.109426   8.846339  6.311038   \n",
       "1977-12-31  13.099616  11.144493  12.627836  6.073945  10.003836  8.586438   \n",
       "1978-12-31  12.504356  11.044274  11.380000  6.082356  10.167233  7.650658   \n",
       "\n",
       "                  DUB        CLA       MUL        CLO        BEL        MAL  \n",
       "Yr_Mo_Dy                                                                     \n",
       "1961-12-31   9.733923   8.858788  8.647652   9.835577  13.502795  13.680773  \n",
       "1962-12-31  11.020712   8.793753  8.316822   9.676247  12.930685  14.323956  \n",
       "1963-12-31  11.075699  10.336548  8.903589  10.224438  13.638877  14.999014  \n",
       "1964-12-31  10.259153   9.467350  7.789016  10.207951  13.740546  14.910301  \n",
       "1965-12-31  10.618712   8.879918  7.907425   9.918082  12.964247  15.591644  \n",
       "1966-12-31  10.579808   8.835096  8.514438   9.768959  14.265836  16.307260  \n",
       "1967-12-31  10.652027   9.325616  8.645014   9.547425  14.774548  17.135945  \n",
       "1968-12-31   8.859180   8.255519  7.224945   7.832978  12.808634  15.017486  \n",
       "1969-12-31   8.564493   7.711397  7.924521   7.754384  12.621233  15.762904  \n",
       "1970-12-31   9.609890   8.334630  9.297616   8.289808  13.183644  16.456027  \n",
       "1971-12-31   8.385890   6.757315  7.915370   7.229753  12.208932  15.025233  \n",
       "1972-12-31   9.704508   7.680792  8.357295   7.515273  12.727377  15.028716  \n",
       "1973-12-31   8.482110   7.614274  8.245534   7.812411  12.169699  15.441096  \n",
       "1974-12-31  10.084603   9.896986  9.331753   8.736356  13.252959  16.947671  \n",
       "1975-12-31   8.562603   7.843836  8.797945   7.382822  12.631671  15.307863  \n",
       "1976-12-31   9.149126   7.146202  8.883716   7.883087  12.332377  15.471448  \n",
       "1977-12-31  11.523205   8.378384  9.098192   8.821616  13.459068  16.590849  \n",
       "1978-12-31   9.489342   8.800466  9.089753   8.301699  12.967397  16.771370  "
      ]
     },
     "execution_count": 78,
     "metadata": {},
     "output_type": "execute_result"
    }
   ],
   "source": [
    "data.resample('Y').mean()"
   ]
  },
  {
   "cell_type": "markdown",
   "id": "54df233f",
   "metadata": {},
   "source": [
    "### Downsample the record to a monthly frequency for each location.\n"
   ]
  },
  {
   "cell_type": "code",
   "execution_count": 79,
   "id": "16b23926",
   "metadata": {},
   "outputs": [
    {
     "data": {
      "text/html": [
       "<div>\n",
       "<style scoped>\n",
       "    .dataframe tbody tr th:only-of-type {\n",
       "        vertical-align: middle;\n",
       "    }\n",
       "\n",
       "    .dataframe tbody tr th {\n",
       "        vertical-align: top;\n",
       "    }\n",
       "\n",
       "    .dataframe thead th {\n",
       "        text-align: right;\n",
       "    }\n",
       "</style>\n",
       "<table border=\"1\" class=\"dataframe\">\n",
       "  <thead>\n",
       "    <tr style=\"text-align: right;\">\n",
       "      <th></th>\n",
       "      <th>RPT</th>\n",
       "      <th>VAL</th>\n",
       "      <th>ROS</th>\n",
       "      <th>KIL</th>\n",
       "      <th>SHA</th>\n",
       "      <th>BIR</th>\n",
       "      <th>DUB</th>\n",
       "      <th>CLA</th>\n",
       "      <th>MUL</th>\n",
       "      <th>CLO</th>\n",
       "      <th>BEL</th>\n",
       "      <th>MAL</th>\n",
       "    </tr>\n",
       "    <tr>\n",
       "      <th>Yr_Mo_Dy</th>\n",
       "      <th></th>\n",
       "      <th></th>\n",
       "      <th></th>\n",
       "      <th></th>\n",
       "      <th></th>\n",
       "      <th></th>\n",
       "      <th></th>\n",
       "      <th></th>\n",
       "      <th></th>\n",
       "      <th></th>\n",
       "      <th></th>\n",
       "      <th></th>\n",
       "    </tr>\n",
       "  </thead>\n",
       "  <tbody>\n",
       "    <tr>\n",
       "      <th>1961-01-31</th>\n",
       "      <td>14.841333</td>\n",
       "      <td>11.988333</td>\n",
       "      <td>13.431613</td>\n",
       "      <td>7.736774</td>\n",
       "      <td>11.072759</td>\n",
       "      <td>8.588065</td>\n",
       "      <td>11.184839</td>\n",
       "      <td>9.245333</td>\n",
       "      <td>9.085806</td>\n",
       "      <td>10.107419</td>\n",
       "      <td>13.880968</td>\n",
       "      <td>14.703226</td>\n",
       "    </tr>\n",
       "    <tr>\n",
       "      <th>1961-02-28</th>\n",
       "      <td>16.269286</td>\n",
       "      <td>14.975357</td>\n",
       "      <td>14.441481</td>\n",
       "      <td>9.230741</td>\n",
       "      <td>13.852143</td>\n",
       "      <td>10.937500</td>\n",
       "      <td>11.890714</td>\n",
       "      <td>11.846071</td>\n",
       "      <td>11.821429</td>\n",
       "      <td>12.714286</td>\n",
       "      <td>18.583214</td>\n",
       "      <td>15.411786</td>\n",
       "    </tr>\n",
       "    <tr>\n",
       "      <th>1961-03-31</th>\n",
       "      <td>10.890000</td>\n",
       "      <td>11.296452</td>\n",
       "      <td>10.752903</td>\n",
       "      <td>7.284000</td>\n",
       "      <td>10.509355</td>\n",
       "      <td>8.866774</td>\n",
       "      <td>9.644194</td>\n",
       "      <td>9.829677</td>\n",
       "      <td>10.294138</td>\n",
       "      <td>11.251935</td>\n",
       "      <td>16.410968</td>\n",
       "      <td>15.720000</td>\n",
       "    </tr>\n",
       "    <tr>\n",
       "      <th>1961-04-30</th>\n",
       "      <td>10.722667</td>\n",
       "      <td>9.427667</td>\n",
       "      <td>9.998000</td>\n",
       "      <td>5.830667</td>\n",
       "      <td>8.435000</td>\n",
       "      <td>6.495000</td>\n",
       "      <td>6.925333</td>\n",
       "      <td>7.094667</td>\n",
       "      <td>7.342333</td>\n",
       "      <td>7.237000</td>\n",
       "      <td>11.147333</td>\n",
       "      <td>10.278333</td>\n",
       "    </tr>\n",
       "    <tr>\n",
       "      <th>1961-05-31</th>\n",
       "      <td>9.860968</td>\n",
       "      <td>8.850000</td>\n",
       "      <td>10.818065</td>\n",
       "      <td>5.905333</td>\n",
       "      <td>9.490323</td>\n",
       "      <td>6.574839</td>\n",
       "      <td>7.604000</td>\n",
       "      <td>8.177097</td>\n",
       "      <td>8.039355</td>\n",
       "      <td>8.499355</td>\n",
       "      <td>11.900323</td>\n",
       "      <td>12.011613</td>\n",
       "    </tr>\n",
       "    <tr>\n",
       "      <th>...</th>\n",
       "      <td>...</td>\n",
       "      <td>...</td>\n",
       "      <td>...</td>\n",
       "      <td>...</td>\n",
       "      <td>...</td>\n",
       "      <td>...</td>\n",
       "      <td>...</td>\n",
       "      <td>...</td>\n",
       "      <td>...</td>\n",
       "      <td>...</td>\n",
       "      <td>...</td>\n",
       "      <td>...</td>\n",
       "    </tr>\n",
       "    <tr>\n",
       "      <th>1978-08-31</th>\n",
       "      <td>9.645161</td>\n",
       "      <td>8.259355</td>\n",
       "      <td>9.032258</td>\n",
       "      <td>4.502903</td>\n",
       "      <td>7.368065</td>\n",
       "      <td>5.935161</td>\n",
       "      <td>5.650323</td>\n",
       "      <td>5.417742</td>\n",
       "      <td>7.241290</td>\n",
       "      <td>5.536774</td>\n",
       "      <td>10.466774</td>\n",
       "      <td>12.054194</td>\n",
       "    </tr>\n",
       "    <tr>\n",
       "      <th>1978-09-30</th>\n",
       "      <td>10.913667</td>\n",
       "      <td>10.895000</td>\n",
       "      <td>10.635000</td>\n",
       "      <td>5.725000</td>\n",
       "      <td>10.372000</td>\n",
       "      <td>9.278333</td>\n",
       "      <td>10.790333</td>\n",
       "      <td>9.583000</td>\n",
       "      <td>10.069333</td>\n",
       "      <td>8.939000</td>\n",
       "      <td>15.680333</td>\n",
       "      <td>19.391333</td>\n",
       "    </tr>\n",
       "    <tr>\n",
       "      <th>1978-10-31</th>\n",
       "      <td>9.897742</td>\n",
       "      <td>8.670968</td>\n",
       "      <td>9.295806</td>\n",
       "      <td>4.721290</td>\n",
       "      <td>8.525161</td>\n",
       "      <td>6.774194</td>\n",
       "      <td>8.115484</td>\n",
       "      <td>7.337742</td>\n",
       "      <td>8.297742</td>\n",
       "      <td>8.243871</td>\n",
       "      <td>13.776774</td>\n",
       "      <td>17.150000</td>\n",
       "    </tr>\n",
       "    <tr>\n",
       "      <th>1978-11-30</th>\n",
       "      <td>16.151667</td>\n",
       "      <td>14.802667</td>\n",
       "      <td>13.508000</td>\n",
       "      <td>7.317333</td>\n",
       "      <td>11.475000</td>\n",
       "      <td>8.743000</td>\n",
       "      <td>11.492333</td>\n",
       "      <td>9.657333</td>\n",
       "      <td>10.701333</td>\n",
       "      <td>10.676000</td>\n",
       "      <td>17.404667</td>\n",
       "      <td>20.723000</td>\n",
       "    </tr>\n",
       "    <tr>\n",
       "      <th>1978-12-31</th>\n",
       "      <td>16.175484</td>\n",
       "      <td>13.748065</td>\n",
       "      <td>15.635161</td>\n",
       "      <td>7.094839</td>\n",
       "      <td>11.398710</td>\n",
       "      <td>9.241613</td>\n",
       "      <td>12.077419</td>\n",
       "      <td>10.194839</td>\n",
       "      <td>10.616774</td>\n",
       "      <td>11.028710</td>\n",
       "      <td>13.859677</td>\n",
       "      <td>21.371613</td>\n",
       "    </tr>\n",
       "  </tbody>\n",
       "</table>\n",
       "<p>216 rows × 12 columns</p>\n",
       "</div>"
      ],
      "text/plain": [
       "                  RPT        VAL        ROS       KIL        SHA        BIR  \\\n",
       "Yr_Mo_Dy                                                                      \n",
       "1961-01-31  14.841333  11.988333  13.431613  7.736774  11.072759   8.588065   \n",
       "1961-02-28  16.269286  14.975357  14.441481  9.230741  13.852143  10.937500   \n",
       "1961-03-31  10.890000  11.296452  10.752903  7.284000  10.509355   8.866774   \n",
       "1961-04-30  10.722667   9.427667   9.998000  5.830667   8.435000   6.495000   \n",
       "1961-05-31   9.860968   8.850000  10.818065  5.905333   9.490323   6.574839   \n",
       "...               ...        ...        ...       ...        ...        ...   \n",
       "1978-08-31   9.645161   8.259355   9.032258  4.502903   7.368065   5.935161   \n",
       "1978-09-30  10.913667  10.895000  10.635000  5.725000  10.372000   9.278333   \n",
       "1978-10-31   9.897742   8.670968   9.295806  4.721290   8.525161   6.774194   \n",
       "1978-11-30  16.151667  14.802667  13.508000  7.317333  11.475000   8.743000   \n",
       "1978-12-31  16.175484  13.748065  15.635161  7.094839  11.398710   9.241613   \n",
       "\n",
       "                  DUB        CLA        MUL        CLO        BEL        MAL  \n",
       "Yr_Mo_Dy                                                                      \n",
       "1961-01-31  11.184839   9.245333   9.085806  10.107419  13.880968  14.703226  \n",
       "1961-02-28  11.890714  11.846071  11.821429  12.714286  18.583214  15.411786  \n",
       "1961-03-31   9.644194   9.829677  10.294138  11.251935  16.410968  15.720000  \n",
       "1961-04-30   6.925333   7.094667   7.342333   7.237000  11.147333  10.278333  \n",
       "1961-05-31   7.604000   8.177097   8.039355   8.499355  11.900323  12.011613  \n",
       "...               ...        ...        ...        ...        ...        ...  \n",
       "1978-08-31   5.650323   5.417742   7.241290   5.536774  10.466774  12.054194  \n",
       "1978-09-30  10.790333   9.583000  10.069333   8.939000  15.680333  19.391333  \n",
       "1978-10-31   8.115484   7.337742   8.297742   8.243871  13.776774  17.150000  \n",
       "1978-11-30  11.492333   9.657333  10.701333  10.676000  17.404667  20.723000  \n",
       "1978-12-31  12.077419  10.194839  10.616774  11.028710  13.859677  21.371613  \n",
       "\n",
       "[216 rows x 12 columns]"
      ]
     },
     "execution_count": 79,
     "metadata": {},
     "output_type": "execute_result"
    }
   ],
   "source": [
    "data.resample('M').mean()"
   ]
  },
  {
   "cell_type": "markdown",
   "id": "6749836c",
   "metadata": {},
   "source": [
    "### Downsample the record to a weekly frequency for each location.\n"
   ]
  },
  {
   "cell_type": "code",
   "execution_count": 80,
   "id": "e95ef38b",
   "metadata": {},
   "outputs": [
    {
     "data": {
      "text/html": [
       "<div>\n",
       "<style scoped>\n",
       "    .dataframe tbody tr th:only-of-type {\n",
       "        vertical-align: middle;\n",
       "    }\n",
       "\n",
       "    .dataframe tbody tr th {\n",
       "        vertical-align: top;\n",
       "    }\n",
       "\n",
       "    .dataframe thead th {\n",
       "        text-align: right;\n",
       "    }\n",
       "</style>\n",
       "<table border=\"1\" class=\"dataframe\">\n",
       "  <thead>\n",
       "    <tr style=\"text-align: right;\">\n",
       "      <th></th>\n",
       "      <th>RPT</th>\n",
       "      <th>VAL</th>\n",
       "      <th>ROS</th>\n",
       "      <th>KIL</th>\n",
       "      <th>SHA</th>\n",
       "      <th>BIR</th>\n",
       "      <th>DUB</th>\n",
       "      <th>CLA</th>\n",
       "      <th>MUL</th>\n",
       "      <th>CLO</th>\n",
       "      <th>BEL</th>\n",
       "      <th>MAL</th>\n",
       "    </tr>\n",
       "    <tr>\n",
       "      <th>Yr_Mo_Dy</th>\n",
       "      <th></th>\n",
       "      <th></th>\n",
       "      <th></th>\n",
       "      <th></th>\n",
       "      <th></th>\n",
       "      <th></th>\n",
       "      <th></th>\n",
       "      <th></th>\n",
       "      <th></th>\n",
       "      <th></th>\n",
       "      <th></th>\n",
       "      <th></th>\n",
       "    </tr>\n",
       "  </thead>\n",
       "  <tbody>\n",
       "    <tr>\n",
       "      <th>1961-01-01</th>\n",
       "      <td>15.040000</td>\n",
       "      <td>14.960000</td>\n",
       "      <td>13.170000</td>\n",
       "      <td>9.290000</td>\n",
       "      <td>NaN</td>\n",
       "      <td>9.870000</td>\n",
       "      <td>13.670000</td>\n",
       "      <td>10.250000</td>\n",
       "      <td>10.830000</td>\n",
       "      <td>12.580000</td>\n",
       "      <td>18.500000</td>\n",
       "      <td>15.040000</td>\n",
       "    </tr>\n",
       "    <tr>\n",
       "      <th>1961-01-08</th>\n",
       "      <td>13.541429</td>\n",
       "      <td>11.486667</td>\n",
       "      <td>10.487143</td>\n",
       "      <td>6.417143</td>\n",
       "      <td>9.474286</td>\n",
       "      <td>6.435714</td>\n",
       "      <td>11.061429</td>\n",
       "      <td>6.616667</td>\n",
       "      <td>8.434286</td>\n",
       "      <td>8.497143</td>\n",
       "      <td>12.481429</td>\n",
       "      <td>13.238571</td>\n",
       "    </tr>\n",
       "    <tr>\n",
       "      <th>1961-01-15</th>\n",
       "      <td>12.468571</td>\n",
       "      <td>8.967143</td>\n",
       "      <td>11.958571</td>\n",
       "      <td>4.630000</td>\n",
       "      <td>7.351429</td>\n",
       "      <td>5.072857</td>\n",
       "      <td>7.535714</td>\n",
       "      <td>6.820000</td>\n",
       "      <td>5.712857</td>\n",
       "      <td>7.571429</td>\n",
       "      <td>11.125714</td>\n",
       "      <td>11.024286</td>\n",
       "    </tr>\n",
       "    <tr>\n",
       "      <th>1961-01-22</th>\n",
       "      <td>13.204286</td>\n",
       "      <td>9.862857</td>\n",
       "      <td>12.982857</td>\n",
       "      <td>6.328571</td>\n",
       "      <td>8.966667</td>\n",
       "      <td>7.417143</td>\n",
       "      <td>9.257143</td>\n",
       "      <td>7.875714</td>\n",
       "      <td>7.145714</td>\n",
       "      <td>8.124286</td>\n",
       "      <td>9.821429</td>\n",
       "      <td>11.434286</td>\n",
       "    </tr>\n",
       "    <tr>\n",
       "      <th>1961-01-29</th>\n",
       "      <td>19.880000</td>\n",
       "      <td>16.141429</td>\n",
       "      <td>18.225714</td>\n",
       "      <td>12.720000</td>\n",
       "      <td>17.432857</td>\n",
       "      <td>14.828571</td>\n",
       "      <td>15.528571</td>\n",
       "      <td>15.160000</td>\n",
       "      <td>14.480000</td>\n",
       "      <td>15.640000</td>\n",
       "      <td>20.930000</td>\n",
       "      <td>22.530000</td>\n",
       "    </tr>\n",
       "    <tr>\n",
       "      <th>...</th>\n",
       "      <td>...</td>\n",
       "      <td>...</td>\n",
       "      <td>...</td>\n",
       "      <td>...</td>\n",
       "      <td>...</td>\n",
       "      <td>...</td>\n",
       "      <td>...</td>\n",
       "      <td>...</td>\n",
       "      <td>...</td>\n",
       "      <td>...</td>\n",
       "      <td>...</td>\n",
       "      <td>...</td>\n",
       "    </tr>\n",
       "    <tr>\n",
       "      <th>1978-12-03</th>\n",
       "      <td>14.934286</td>\n",
       "      <td>11.232857</td>\n",
       "      <td>13.941429</td>\n",
       "      <td>5.565714</td>\n",
       "      <td>10.215714</td>\n",
       "      <td>8.618571</td>\n",
       "      <td>9.642857</td>\n",
       "      <td>7.685714</td>\n",
       "      <td>9.011429</td>\n",
       "      <td>9.547143</td>\n",
       "      <td>11.835714</td>\n",
       "      <td>18.728571</td>\n",
       "    </tr>\n",
       "    <tr>\n",
       "      <th>1978-12-10</th>\n",
       "      <td>20.740000</td>\n",
       "      <td>19.190000</td>\n",
       "      <td>17.034286</td>\n",
       "      <td>9.777143</td>\n",
       "      <td>15.287143</td>\n",
       "      <td>12.774286</td>\n",
       "      <td>14.437143</td>\n",
       "      <td>12.488571</td>\n",
       "      <td>13.870000</td>\n",
       "      <td>14.082857</td>\n",
       "      <td>18.517143</td>\n",
       "      <td>23.061429</td>\n",
       "    </tr>\n",
       "    <tr>\n",
       "      <th>1978-12-17</th>\n",
       "      <td>16.758571</td>\n",
       "      <td>14.692857</td>\n",
       "      <td>14.987143</td>\n",
       "      <td>6.917143</td>\n",
       "      <td>11.397143</td>\n",
       "      <td>7.272857</td>\n",
       "      <td>10.208571</td>\n",
       "      <td>7.967143</td>\n",
       "      <td>9.168571</td>\n",
       "      <td>8.565714</td>\n",
       "      <td>11.102857</td>\n",
       "      <td>15.562857</td>\n",
       "    </tr>\n",
       "    <tr>\n",
       "      <th>1978-12-24</th>\n",
       "      <td>11.155714</td>\n",
       "      <td>8.008571</td>\n",
       "      <td>13.172857</td>\n",
       "      <td>4.004286</td>\n",
       "      <td>7.825714</td>\n",
       "      <td>6.290000</td>\n",
       "      <td>7.798571</td>\n",
       "      <td>8.667143</td>\n",
       "      <td>7.151429</td>\n",
       "      <td>8.072857</td>\n",
       "      <td>11.845714</td>\n",
       "      <td>18.977143</td>\n",
       "    </tr>\n",
       "    <tr>\n",
       "      <th>1978-12-31</th>\n",
       "      <td>14.951429</td>\n",
       "      <td>11.801429</td>\n",
       "      <td>16.035714</td>\n",
       "      <td>6.507143</td>\n",
       "      <td>9.660000</td>\n",
       "      <td>8.620000</td>\n",
       "      <td>13.708571</td>\n",
       "      <td>10.477143</td>\n",
       "      <td>10.868571</td>\n",
       "      <td>11.471429</td>\n",
       "      <td>12.947143</td>\n",
       "      <td>26.844286</td>\n",
       "    </tr>\n",
       "  </tbody>\n",
       "</table>\n",
       "<p>940 rows × 12 columns</p>\n",
       "</div>"
      ],
      "text/plain": [
       "                  RPT        VAL        ROS        KIL        SHA        BIR  \\\n",
       "Yr_Mo_Dy                                                                       \n",
       "1961-01-01  15.040000  14.960000  13.170000   9.290000        NaN   9.870000   \n",
       "1961-01-08  13.541429  11.486667  10.487143   6.417143   9.474286   6.435714   \n",
       "1961-01-15  12.468571   8.967143  11.958571   4.630000   7.351429   5.072857   \n",
       "1961-01-22  13.204286   9.862857  12.982857   6.328571   8.966667   7.417143   \n",
       "1961-01-29  19.880000  16.141429  18.225714  12.720000  17.432857  14.828571   \n",
       "...               ...        ...        ...        ...        ...        ...   \n",
       "1978-12-03  14.934286  11.232857  13.941429   5.565714  10.215714   8.618571   \n",
       "1978-12-10  20.740000  19.190000  17.034286   9.777143  15.287143  12.774286   \n",
       "1978-12-17  16.758571  14.692857  14.987143   6.917143  11.397143   7.272857   \n",
       "1978-12-24  11.155714   8.008571  13.172857   4.004286   7.825714   6.290000   \n",
       "1978-12-31  14.951429  11.801429  16.035714   6.507143   9.660000   8.620000   \n",
       "\n",
       "                  DUB        CLA        MUL        CLO        BEL        MAL  \n",
       "Yr_Mo_Dy                                                                      \n",
       "1961-01-01  13.670000  10.250000  10.830000  12.580000  18.500000  15.040000  \n",
       "1961-01-08  11.061429   6.616667   8.434286   8.497143  12.481429  13.238571  \n",
       "1961-01-15   7.535714   6.820000   5.712857   7.571429  11.125714  11.024286  \n",
       "1961-01-22   9.257143   7.875714   7.145714   8.124286   9.821429  11.434286  \n",
       "1961-01-29  15.528571  15.160000  14.480000  15.640000  20.930000  22.530000  \n",
       "...               ...        ...        ...        ...        ...        ...  \n",
       "1978-12-03   9.642857   7.685714   9.011429   9.547143  11.835714  18.728571  \n",
       "1978-12-10  14.437143  12.488571  13.870000  14.082857  18.517143  23.061429  \n",
       "1978-12-17  10.208571   7.967143   9.168571   8.565714  11.102857  15.562857  \n",
       "1978-12-24   7.798571   8.667143   7.151429   8.072857  11.845714  18.977143  \n",
       "1978-12-31  13.708571  10.477143  10.868571  11.471429  12.947143  26.844286  \n",
       "\n",
       "[940 rows x 12 columns]"
      ]
     },
     "execution_count": 80,
     "metadata": {},
     "output_type": "execute_result"
    }
   ],
   "source": [
    "data.resample('W').mean()"
   ]
  },
  {
   "cell_type": "markdown",
   "id": "2a1fac94",
   "metadata": {},
   "source": [
    "# Question 5"
   ]
  },
  {
   "cell_type": "code",
   "execution_count": 45,
   "id": "3fac38fd",
   "metadata": {},
   "outputs": [],
   "source": [
    "import pandas as pdLib5\n",
    "chipo = pdLib5.read_csv(\"https://raw.githubusercontent.com/justmarkham/DAT8/master/data/chipotle.tsv\", sep='\\t')"
   ]
  },
  {
   "cell_type": "markdown",
   "id": "b0477caf",
   "metadata": {},
   "source": [
    "### See the first 10 entries"
   ]
  },
  {
   "cell_type": "code",
   "execution_count": 46,
   "id": "df222e0a",
   "metadata": {},
   "outputs": [
    {
     "name": "stdout",
     "output_type": "stream",
     "text": [
      "   order_id  quantity                              item_name  \\\n",
      "0         1         1           Chips and Fresh Tomato Salsa   \n",
      "1         1         1                                   Izze   \n",
      "2         1         1                       Nantucket Nectar   \n",
      "3         1         1  Chips and Tomatillo-Green Chili Salsa   \n",
      "4         2         2                           Chicken Bowl   \n",
      "5         3         1                           Chicken Bowl   \n",
      "6         3         1                          Side of Chips   \n",
      "7         4         1                          Steak Burrito   \n",
      "8         4         1                       Steak Soft Tacos   \n",
      "9         5         1                          Steak Burrito   \n",
      "\n",
      "                                  choice_description item_price  \n",
      "0                                                NaN     $2.39   \n",
      "1                                       [Clementine]     $3.39   \n",
      "2                                            [Apple]     $3.39   \n",
      "3                                                NaN     $2.39   \n",
      "4  [Tomatillo-Red Chili Salsa (Hot), [Black Beans...    $16.98   \n",
      "5  [Fresh Tomato Salsa (Mild), [Rice, Cheese, Sou...    $10.98   \n",
      "6                                                NaN     $1.69   \n",
      "7  [Tomatillo Red Chili Salsa, [Fajita Vegetables...    $11.75   \n",
      "8  [Tomatillo Green Chili Salsa, [Pinto Beans, Ch...     $9.25   \n",
      "9  [Fresh Tomato Salsa, [Rice, Black Beans, Pinto...     $9.25   \n"
     ]
    }
   ],
   "source": [
    "firstTen = chipo.head(10)\n",
    "print(firstTen)"
   ]
  },
  {
   "cell_type": "markdown",
   "id": "76d5e09a",
   "metadata": {},
   "source": [
    "### What is the number of observations in the dataset?"
   ]
  },
  {
   "cell_type": "code",
   "execution_count": 47,
   "id": "7fccc245",
   "metadata": {},
   "outputs": [
    {
     "name": "stdout",
     "output_type": "stream",
     "text": [
      "Total number of observations in the dataset: 4622\n"
     ]
    }
   ],
   "source": [
    "print(\"Total number of observations in the dataset: \" +str(len(chipo.index)))"
   ]
  },
  {
   "cell_type": "markdown",
   "id": "06e81e7d",
   "metadata": {},
   "source": [
    "### What is the number of columns in the dataset?"
   ]
  },
  {
   "cell_type": "code",
   "execution_count": 48,
   "id": "77224bc8",
   "metadata": {},
   "outputs": [
    {
     "name": "stdout",
     "output_type": "stream",
     "text": [
      "Total number of columns in the dataset: 5\n"
     ]
    }
   ],
   "source": [
    "print(\"Total number of columns in the dataset: \" +str(len(chipo.columns)))"
   ]
  },
  {
   "cell_type": "markdown",
   "id": "933b6dc4",
   "metadata": {},
   "source": [
    "### Print the name of all the columns.\n"
   ]
  },
  {
   "cell_type": "code",
   "execution_count": 49,
   "id": "5f1afd75",
   "metadata": {},
   "outputs": [
    {
     "name": "stdout",
     "output_type": "stream",
     "text": [
      "Index(['order_id', 'quantity', 'item_name', 'choice_description',\n",
      "       'item_price'],\n",
      "      dtype='object')\n"
     ]
    }
   ],
   "source": [
    "print(chipo.columns)"
   ]
  },
  {
   "cell_type": "markdown",
   "id": "e621ff82",
   "metadata": {},
   "source": [
    "### How is the dataset indexed?\n"
   ]
  },
  {
   "cell_type": "code",
   "execution_count": 50,
   "id": "ace024bf",
   "metadata": {},
   "outputs": [
    {
     "name": "stdout",
     "output_type": "stream",
     "text": [
      "Dataset Indexing Details: RangeIndex(start=0, stop=4622, step=1)\n"
     ]
    }
   ],
   "source": [
    "print(\"Dataset Indexing Details: \" +str(chipo.index))"
   ]
  },
  {
   "cell_type": "markdown",
   "id": "cc1d1b50",
   "metadata": {},
   "source": [
    "### Which was the most-ordered item?\n"
   ]
  },
  {
   "cell_type": "code",
   "execution_count": 51,
   "id": "f33d6249",
   "metadata": {},
   "outputs": [
    {
     "name": "stdout",
     "output_type": "stream",
     "text": [
      "              order_id  quantity\n",
      "item_name                       \n",
      "Chicken Bowl    713926       761\n"
     ]
    }
   ],
   "source": [
    "mostOrdered = pdLib5.DataFrame(chipo.groupby('item_name').sum())\n",
    "print(mostOrdered.sort_values(['quantity'],ascending=False).head(1))"
   ]
  },
  {
   "cell_type": "markdown",
   "id": "5517afe4",
   "metadata": {},
   "source": [
    "### For the most-ordered item, how many items were ordered?"
   ]
  },
  {
   "cell_type": "code",
   "execution_count": 52,
   "id": "960a5086",
   "metadata": {},
   "outputs": [
    {
     "name": "stdout",
     "output_type": "stream",
     "text": [
      "              quantity\n",
      "item_name             \n",
      "Chicken Bowl       761\n"
     ]
    }
   ],
   "source": [
    "stepTen = mostOrdered.sort_values(['quantity'],ascending=False).head(1)\n",
    "print(stepTen[['quantity']])"
   ]
  },
  {
   "cell_type": "markdown",
   "id": "acb72dc2",
   "metadata": {},
   "source": [
    "### What was the most ordered item in the choice_description column?\n"
   ]
  },
  {
   "cell_type": "code",
   "execution_count": 53,
   "id": "b92197b8",
   "metadata": {},
   "outputs": [
    {
     "name": "stdout",
     "output_type": "stream",
     "text": [
      "                    order_id  quantity\n",
      "choice_description                    \n",
      "[Diet Coke]           123455       159\n"
     ]
    }
   ],
   "source": [
    "choiceDescription = pdLib5.DataFrame(chipo.groupby('choice_description').sum())\n",
    "print(choiceDescription.sort_values(['quantity'],ascending=False).head(1))"
   ]
  },
  {
   "cell_type": "markdown",
   "id": "47e7c5f2",
   "metadata": {},
   "source": [
    "### How many items were orderd in total?"
   ]
  },
  {
   "cell_type": "code",
   "execution_count": 54,
   "id": "1c1bb8bd",
   "metadata": {},
   "outputs": [
    {
     "name": "stdout",
     "output_type": "stream",
     "text": [
      "                    quantity\n",
      "choice_description          \n",
      "[Diet Coke]              159\n"
     ]
    }
   ],
   "source": [
    "stepTwelve = choiceDescription.sort_values(['quantity'],ascending=False).head(1)\n",
    "print(stepTwelve[['quantity']])"
   ]
  },
  {
   "cell_type": "markdown",
   "id": "b37c172a",
   "metadata": {},
   "source": [
    "### • Turn the item price into a float\n",
    "### • Check the item price type\n",
    "### • Create a lambda function and change the type of item price\n",
    "### • Check the item price type"
   ]
  },
  {
   "cell_type": "code",
   "execution_count": 56,
   "id": "58f16493",
   "metadata": {},
   "outputs": [
    {
     "data": {
      "text/plain": [
       "dtype('O')"
      ]
     },
     "execution_count": 56,
     "metadata": {},
     "output_type": "execute_result"
    }
   ],
   "source": [
    "chipo.item_price.dtype"
   ]
  },
  {
   "cell_type": "code",
   "execution_count": 57,
   "id": "5f3118b5",
   "metadata": {},
   "outputs": [
    {
     "data": {
      "text/plain": [
       "dtype('float64')"
      ]
     },
     "execution_count": 57,
     "metadata": {},
     "output_type": "execute_result"
    }
   ],
   "source": [
    "convertToFloat = lambda dataField: float(dataField[1:-1])\n",
    "chipo.item_price = chipo.item_price.apply(convertToFloat)\n",
    "chipo.item_price.dtype"
   ]
  },
  {
   "cell_type": "markdown",
   "id": "257ec447",
   "metadata": {},
   "source": [
    "### How much was the revenue for the period in the dataset?\n"
   ]
  },
  {
   "cell_type": "code",
   "execution_count": 58,
   "id": "8c0adc7d",
   "metadata": {},
   "outputs": [
    {
     "name": "stdout",
     "output_type": "stream",
     "text": [
      "Total Revenue for the period in the dataset: 39237.02\n"
     ]
    }
   ],
   "source": [
    "quantity = chipo['quantity']\n",
    "itemPrice = chipo['item_price']\n",
    "totalRevenue = (quantity*itemPrice).sum()\n",
    "print(\"Total Revenue for the period in the dataset: \" + str(totalRevenue))"
   ]
  },
  {
   "cell_type": "markdown",
   "id": "8057bd8b",
   "metadata": {},
   "source": [
    "###  How many orders were made in the period?"
   ]
  },
  {
   "cell_type": "code",
   "execution_count": 59,
   "id": "c7b5acd9",
   "metadata": {},
   "outputs": [
    {
     "data": {
      "text/plain": [
       "1834"
      ]
     },
     "execution_count": 59,
     "metadata": {},
     "output_type": "execute_result"
    }
   ],
   "source": [
    "totalOrders = pdLib5.DataFrame(chipo.order_id.value_counts()).order_id.agg('count')\n",
    "totalOrders"
   ]
  },
  {
   "cell_type": "markdown",
   "id": "42ded5d6",
   "metadata": {},
   "source": [
    "### What is the average revenue amount per order?\n"
   ]
  },
  {
   "cell_type": "code",
   "execution_count": 60,
   "id": "0b87bdf8",
   "metadata": {},
   "outputs": [
    {
     "data": {
      "text/plain": [
       "21.394231188658654"
      ]
     },
     "execution_count": 60,
     "metadata": {},
     "output_type": "execute_result"
    }
   ],
   "source": [
    "quantity = chipo['quantity']\n",
    "itemPrice = chipo['item_price']\n",
    "chipo['totalRevenue1'] = (quantity*itemPrice)\n",
    "stepSixteen = pdLib5.DataFrame(chipo.groupby('order_id').sum())\n",
    "stepSixteen.mean()['totalRevenue1']"
   ]
  },
  {
   "cell_type": "markdown",
   "id": "0ab12d64",
   "metadata": {},
   "source": [
    "### How many different items are sold?\n"
   ]
  },
  {
   "cell_type": "code",
   "execution_count": 63,
   "id": "c88cead1",
   "metadata": {},
   "outputs": [
    {
     "name": "stdout",
     "output_type": "stream",
     "text": [
      "Total number of different items sold: 50\n"
     ]
    }
   ],
   "source": [
    "print(\"Total number of different items sold: \" + str(chipo.item_name.value_counts().count()))"
   ]
  },
  {
   "cell_type": "markdown",
   "id": "efc760c2",
   "metadata": {},
   "source": [
    "# Question 6"
   ]
  },
  {
   "cell_type": "markdown",
   "id": "be1fbc9c",
   "metadata": {},
   "source": [
    "### Create a line plot showing the number of marriages and divorces per capita in the U.S. between 1867 and 2014. Label both lines and show the legend. Don't forget to label your axes!"
   ]
  },
  {
   "cell_type": "code",
   "execution_count": 64,
   "id": "311891dd",
   "metadata": {},
   "outputs": [
    {
     "data": {
      "image/png": "[encoded data removed]",
      "text/plain": [
       "<Figure size 432x288 with 1 Axes>"
      ]
     },
     "metadata": {
      "needs_background": "light"
     },
     "output_type": "display_data"
    }
   ],
   "source": [
    "import pandas as pdLib6\n",
    "import matplotlib.pyplot as plLib6\n",
    "\n",
    "questionSix = pdLib6.read_csv('us-marriages-divorces-1867-2014.csv')\n",
    "years = questionSix.Year\n",
    "totalMarriages = questionSix.Marriages_per_1000\n",
    "totalDivorces = questionSix.Divorces_per_1000\n",
    "\n",
    "plLib6.plot(years,totalMarriages)\n",
    "plLib6.plot(years,totalDivorces)\n",
    "plLib6.xlabel(\"Years\")\n",
    "plLib6.ylabel(\"Marriages & Divorces per capita\")\n",
    "plLib6.title(\"Number of Marriages and Divorces per capita in the U.S. between 1867 and 2014\")\n",
    "plLib6.show()\n"
   ]
  },
  {
   "cell_type": "markdown",
   "id": "5dd09746",
   "metadata": {},
   "source": [
    "# Question 7"
   ]
  },
  {
   "cell_type": "markdown",
   "id": "b91d75d1",
   "metadata": {},
   "source": [
    "### Create a vertical bar chart comparing the number of marriages and divorces per capita in the U.S. between 1900, 1950, and 2000. Don't forget to label your axes!"
   ]
  },
  {
   "cell_type": "code",
   "execution_count": 65,
   "id": "f9af7a12",
   "metadata": {},
   "outputs": [
    {
     "data": {
      "image/png": "[encoded data removed]",
      "text/plain": [
       "<Figure size 432x288 with 1 Axes>"
      ]
     },
     "metadata": {
      "needs_background": "light"
     },
     "output_type": "display_data"
    }
   ],
   "source": [
    "import pandas as pdLib6\n",
    "import matplotlib.pyplot as plLib6\n",
    "\n",
    "laganData = pdLib6.read_csv('us-marriages-divorces-1867-2014.csv')\n",
    "filterData = laganData[(laganData.Year >=1900) & (laganData.Year <=2000)]\n",
    "\n",
    "plLib6.bar(filterData['Marriages_per_1000'],filterData['Divorces_per_1000'])\n",
    "plLib6.title(\"Total number of Marriages and Divorces per Capita in US between 1900,1950, and 2000\")\n",
    "plLib6.xlabel(\"Marriages per capita in US\")\n",
    "plLib6.ylabel(\"Divorces per capita in US\")\n",
    "plLib6.show()"
   ]
  },
  {
   "cell_type": "markdown",
   "id": "f78e242c",
   "metadata": {},
   "source": [
    "# Question 8"
   ]
  },
  {
   "cell_type": "markdown",
   "id": "5918b53b",
   "metadata": {},
   "source": [
    "### Create a horizontal bar chart that compares the deadliest actors in Hollywood. Sortthe actors by their kill count and label each bar with the corresponding actor's name. Don't forget to label your axes!\n"
   ]
  },
  {
   "cell_type": "code",
   "execution_count": 66,
   "id": "3bddced0",
   "metadata": {},
   "outputs": [
    {
     "data": {
      "image/png": "[encoded data removed]",
      "text/plain": [
       "<Figure size 432x288 with 1 Axes>"
      ]
     },
     "metadata": {
      "needs_background": "light"
     },
     "output_type": "display_data"
    }
   ],
   "source": [
    "import pandas as pdLib8\n",
    "import matplotlib.pyplot as plLib8\n",
    "\n",
    "actorData = pdLib8.read_csv('actor_kill_counts.csv')\n",
    "filterData = laganData[(laganData.Year >=1900) & (laganData.Year <=2000)]\n",
    "\n",
    "actorNames =actorData.Actor\n",
    "actorKills = actorData.Count.sort_values(ascending=False)\n",
    "\n",
    "plLib8.barh(actorNames,actorKills)\n",
    "plLib8.xlabel(\"Number of Kills\")\n",
    "plLib8.ylabel(\"Actor Names\")\n",
    "plLib8.title(\"Deadliest Actors in Hollywood\")\n",
    "plLib8.show()"
   ]
  },
  {
   "cell_type": "markdown",
   "id": "39528fd1",
   "metadata": {},
   "source": [
    "# Question 9\n"
   ]
  },
  {
   "cell_type": "markdown",
   "id": "7ca6c041",
   "metadata": {},
   "source": [
    "### Create a pie chart showing the fraction of all Roman Emperors that were assassinated. Make sure that the pie chart is an even circle, labels the categories, and shows the percentage breakdown of the categories"
   ]
  },
  {
   "cell_type": "code",
   "execution_count": 67,
   "id": "c3b60287",
   "metadata": {},
   "outputs": [
    {
     "data": {
      "image/png": "[encoded data removed]",
      "text/plain": [
       "<Figure size 432x288 with 1 Axes>"
      ]
     },
     "metadata": {},
     "output_type": "display_data"
    }
   ],
   "source": [
    "import pandas as pdLib9\n",
    "import matplotlib.pyplot as plLib9\n",
    "\n",
    "romanData = pdLib9.read_csv('roman-emperor-reigns.csv')\n",
    "\n",
    "emperorsAssassinated = romanData[romanData.Cause_of_Death == 'Assassinated']\n",
    "otherDeaths = len(romanData)-len(emperorsAssassinated) \n",
    "emperorsAssassinatedRatio = (len(emperorsAssassinated)/len(romanData))*100\n",
    "otherDeathsRatio = (otherDeaths/len(romanData)*100)\n",
    "finalRatio = [emperorsAssassinatedRatio,otherDeathsRatio]\n",
    "\n",
    "plLib9.pie(finalRatio,labels=(\"Assasinated\",\"Other\"),autopct='%.2f%%')\n",
    "plLib9.title(\"Fraction of all Roman Emperors that were Assassinated\")\n",
    "plLib9.show()\n"
   ]
  },
  {
   "cell_type": "markdown",
   "id": "f78d24b3",
   "metadata": {},
   "source": [
    "# Question 10\n"
   ]
  },
  {
   "cell_type": "markdown",
   "id": "dd0997c2",
   "metadata": {},
   "source": [
    "### Create a scatter plot showing the relationship between the total revenue earned by arcades and the number of Computer Science PhDs awarded in the U.S. between 2000 and 2009."
   ]
  },
  {
   "cell_type": "code",
   "execution_count": 71,
   "id": "479b7f57",
   "metadata": {},
   "outputs": [
    {
     "data": {
      "image/png": "[encoded data removed]",
      "text/plain": [
       "<Figure size 432x288 with 1 Axes>"
      ]
     },
     "metadata": {
      "needs_background": "light"
     },
     "output_type": "display_data"
    }
   ],
   "source": [
    "import pandas as pdLib10\n",
    "import matplotlib.pyplot as plLib10\n",
    "\n",
    "questionTen = pdLib10.read_csv('arcade-revenue-vs-cs-doctorates.csv')\n",
    "totalRevenue = questionTen['Total Arcade Revenue (billions)']\n",
    "totalPhDs = questionTen['Computer Science Doctorates Awarded (US)']\n",
    "year = questionTen['Year']\n",
    "plLib10.scatter(totalRevenue,totalPhDs,cmap=\"rainbow\")\n",
    "plLib10.scatter(totalRevenue,totalPhDs,c=year,cmap=\"rainbow\")\n",
    "plLib10.xlabel(\"Total Revenue earned\")\n",
    "plLib10.ylabel(\"Number of Computer Science PhDs Awarded\")\n",
    "plLib10.title(\"Relationship between the toal revenue earned by arcades and the number of Computer Science PhDs Awarded in the U.S\")\n",
    "plLib10.show()\n"
   ]
  }
 ],
 "metadata": {
  "kernelspec": {
   "display_name": "Python 3",
   "language": "python",
   "name": "python3"
  },
  "language_info": {
   "codemirror_mode": {
    "name": "ipython",
    "version": 3
   },
   "file_extension": ".py",
   "mimetype": "text/x-python",
   "name": "python",
   "nbconvert_exporter": "python",
   "pygments_lexer": "ipython3",
   "version": "3.8.8"
  }
 },
 "nbformat": 4,
 "nbformat_minor": 5
}
